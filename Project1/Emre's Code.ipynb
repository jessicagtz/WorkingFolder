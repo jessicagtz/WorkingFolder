{
 "cells": [
  {
   "cell_type": "code",
   "execution_count": 2,
   "metadata": {
    "collapsed": true
   },
   "outputs": [],
   "source": [
    "#Dependencies \n",
    "import tweepy\n",
    "import pandas as pd\n",
    "import numpy as np\n",
    "import matplotlib.pyplot as plt\n",
    "from pprint import pprint\n",
    "\n",
    "# Import and Initialize Sentiment Analyzer\n",
    "from vaderSentiment.vaderSentiment import SentimentIntensityAnalyzer\n",
    "analyzer = SentimentIntensityAnalyzer()\n",
    "\n",
    "from config import (consumer_key, \n",
    "                    consumer_secret, \n",
    "                    access_token, \n",
    "                    access_token_secret)\n",
    "\n",
    "\n",
    "# Setup Tweepy API Authentication\n",
    "auth = tweepy.OAuthHandler(consumer_key, consumer_secret)\n",
    "auth.set_access_token(access_token, access_token_secret)\n",
    "api = tweepy.API(auth, parser=tweepy.parsers.JSONParser())\n"
   ]
  },
  {
   "cell_type": "code",
   "execution_count": 8,
   "metadata": {},
   "outputs": [
    {
     "name": "stdout",
     "output_type": "stream",
     "text": [
      "kinetic_cycling\n",
      "kinetic_cycling\n",
      "joshbenmoshe\n",
      "Cycling_Trends\n",
      "kinetic_cycling\n",
      "kinetic_cycling\n",
      "bikefitadviser\n",
      "procyclistbod\n",
      "fbarral\n",
      "hblsrinu\n",
      "rmeese\n"
     ]
    }
   ],
   "source": [
    "# Target Hashtags\n",
    "target_tags = [\"#cycling\"]\n",
    "hashtags = []\n",
    "hashtags_count = []\n",
    "users = []\n",
    "tweet= []\n",
    "# User Filters\n",
    "min_tweets = 100\n",
    "max_tweets = 20000\n",
    "max_followers = 1500\n",
    "max_following = 50\n",
    "lang = \"en\"\n",
    "#Loop through tager users \n",
    "    \n",
    "counter = 0 \n",
    "# Loop through 5 pages of tweets (100  tweets)\n",
    "oldest_tweet = None\n",
    "for x in range(15):\n",
    "    # Run search around each tweet\n",
    "    public_tweets = api.search(target_tags, count=100, result_type=\"recent\", max_id=oldest_tweet)\n",
    "    # For each target tag, loop through all tweets \n",
    "    for tweet in public_tweets[\"statuses\"]:        \n",
    "        if (tweet[\"user\"][\"followers_count\"] < max_followers\n",
    "        and tweet[\"user\"][\"statuses_count\"] > min_tweets\n",
    "        and tweet[\"user\"][\"statuses_count\"] < max_tweets\n",
    "        and tweet[\"user\"][\"friends_count\"] < max_following\n",
    "        and tweet[\"user\"][\"lang\"] == lang):\n",
    "            \n",
    "            print(tweet[\"user\"][\"screen_name\"])\n",
    "            users.append(tweet[\"user\"][\"screen_name\"])\n",
    "            counter +=1 \n",
    "            #users.append(tweet[\"text\"])\n",
    "            oldest_tweet = int(tweet[\"id_str\"]) - 1\n",
    "            "
   ]
  },
  {
   "cell_type": "code",
   "execution_count": null,
   "metadata": {},
   "outputs": [],
   "source": [
    "tw"
   ]
  },
  {
   "cell_type": "code",
   "execution_count": null,
   "metadata": {
    "collapsed": true
   },
   "outputs": [],
   "source": []
  }
 ],
 "metadata": {
  "kernelspec": {
   "display_name": "Python 3",
   "language": "python",
   "name": "python3"
  },
  "language_info": {
   "codemirror_mode": {
    "name": "ipython",
    "version": 3
   },
   "file_extension": ".py",
   "mimetype": "text/x-python",
   "name": "python",
   "nbconvert_exporter": "python",
   "pygments_lexer": "ipython3",
   "version": "3.6.3"
  }
 },
 "nbformat": 4,
 "nbformat_minor": 2
}
