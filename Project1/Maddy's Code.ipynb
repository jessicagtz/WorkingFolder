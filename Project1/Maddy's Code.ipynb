{
 "cells": [
  {
   "cell_type": "code",
   "execution_count": 2,
   "metadata": {
    "collapsed": true
   },
   "outputs": [],
   "source": [
    "\n",
    "# Dependencies\n",
    "import random\n",
    "import time\n",
    "import pandas as pd\n",
    "import tweepy\n",
    "import json\n",
    "import numpy as np\n",
    "from pprint import pprint\n",
    "from datetime import datetime\n",
    "import matplotlib.pyplot as plt\n",
    "from config import consumer_key, consumer_secret, access_token, access_token_secret\n",
    "from vaderSentiment.vaderSentiment import SentimentIntensityAnalyzer\n",
    "analyzer = SentimentIntensityAnalyzer()\n",
    "\n",
    "# Setup Tweepy API Authentication\n",
    "auth = tweepy.OAuthHandler(consumer_key, consumer_secret)\n",
    "auth.set_access_token(access_token, access_token_secret)\n",
    "api = tweepy.API(auth, parser=tweepy.parsers.JSONParser())"
   ]
  },
  {
   "cell_type": "code",
   "execution_count": 20,
   "metadata": {},
   "outputs": [
    {
     "name": "stdout",
     "output_type": "stream",
     "text": [
      "{'TheCryptoMadMan': 25, 'nickyninjas': 25, 'WebsterHubbell': 25, 'Deb42271069': 25, 'bVvLeZMW0qxXgeB': 25, '62c560c9b80942a': 25, 'GoodIdeasComics': 25, 'COSProjectTX': 25, 'Kenken10123': 50, 'JpPmntl09': 25, 'MsKatieChap': 25, 'buttercreambttm': 50, 'VanzuelaJustine': 25, 'DassiSantoshi': 25, '60gal3': 25, 'movie_kid': 25, 'Yao_CBS': 25, 'iv_lwt': 25, 'okaystrong': 25, 'HossManley': 25, 'PhatAssButt215': 25, 'violetsky120': 25, 'QuiteThePair': 25, 'livethngivetour': 25, 'harrythefrog94': 25, 'REACHReads': 25, 'salpiccininni': 25, 'Jaclyn908': 25, 'LoriMWriter': 25, 'Kayistheking': 25, 'khuthal12601680': 13, 'Sufi_bruvv': 12, 'Mailie98223450': 150, 'putrifatimah192': 25, 'vbtsjjang': 50, 's2gr3fvikhhVCL9': 516, 'park_sefelle': 25, 'AamnaXD': 22, 'glenpyle': 25, 'Gateway_CHC': 25, 'ppDinz': 25, 'JelliiVision': 25, 'Bohalista': 25, 'alliemanzo3': 25, 'wolf44537036': 25, 'KallileG': 25, 'sharmadrryi': 25, 'madzaboutShinee': 25, 'Mallika_jha': 25, 'chuaweikiat': 25, 'LSAGeography': 25, 'idaniacazares': 25, 'unclepennyjames': 25, 'david_b_ling': 25, 'hadawayben': 25, 'Duchamplola': 25, 'taylorramos9696': 25, 'CEIBA1995': 25, 'spc_gam3r': 25, 'KutztownSAAC': 25, 'US_Marj': 25, 'ASVPXE': 25, 'amypacifico3': 25, 'R_tanner7': 25, 'lawranc65903935': 25, 'kelliannwv': 25, 'kltroyer': 25, 'MEANGREEN80': 25, 'elarson272002': 25, 'Joe_Kuyk': 25, 'ErikwithaK82': 25, 'PeterHi32200905': 25, 'TurntNugget200': 25, 'ldydemon': 25, 'jeffhoj8': 25, 'emkj96': 25, 'brent11_': 25, 'd_pelko': 26, 'PatriotsatHeart': 25, 'FreshMexChris': 25, 'BridgeSeattle': 25, 'kavidserve': 25, '_Cullen_McClain': 25, 'Galion59': 25, 'jankev83': 25, 'SupremeSteph3': 25, 'rehab0625': 25, 'kennygulo30': 25, 'GracelandBSU': 25, 'madison_valyo23': 25, 'DeSotoEaglesGBB': 25, 'Phillyfan7690': 25, 'KyleKunce': 25, 'c_scales5': 25, 'ThePointBurien': 25, 'AmandaCorden': 22, 'Ampudia16': 8, 'RCs_ACMan': 22, 'GridironGamble': 12, 'wehig': 12, 'p2thegreatest': 3, 'tradewindsnwi': 25, 'busybee2016': 25, 'SamDelisi': 25, 'DMserenityFA': 25, 'NAPaficionado': 25, 'leeamm7': 25, 'ginjorsnap': 25, 'Sad1249Sydney': 25, 'jujuwalk': 25, 'Giterdonenow': 25, 'dgiagio': 25, 'cydbennett11': 25, 'existencerased': 25, 'AnnuarAdam': 25, 'HeatherMaebee': 25, 'jammienaldrett': 25, 'Cooky_Barb2': 25, 'Meek_tha_Menace': 25, 'JUST_DREAM_1955': 25, 'SuziVo5661': 25, 'Ploof_Unknown': 25, 'HrrsL15': 25, 'dirtbustclean': 25, 'Wintery1': 24, 'beatopfalcon': 21, 'GiaCarangiSite': 14, 'm4rkth0m20n2': 13, 'kbdubbs17': 13, 'sarapau55890249': 11, 'LauraCu29539177': 7, 'xLoveMyScotchx': 4, 'paliwal_soniya': 2, 'bedelthebard': 1, 'DSwanCity': 23, 'DougSearsTewks': 20, 'KnicksMafia': 12, 'khrystel2002': 5, 'Roopchand71560': 1, '317_4641': 1, 'melaniesanch3z': 25, 'F1rstClassFit': 25, 'CalgHighrs': 25, 'bringtheruckus6': 25, 'antoniovsmith': 25, 'Thailynn6': 25, 'G0T7_Ahgase': 25, 'LeadFitness': 25, 'Michell2Stephan': 25, 'debsyres': 25, 'DanielUndead1': 25, 'ADCordova11': 25, 'iam_taymar': 25, 'marthaaalyea': 25, 'donniedannygirl': 100, 'nickguffey14': 25, '_TonyStorm': 25, 'TwitchShocktikz': 3, '3liasLucero': 75, 'D_Guapoo': 25, 'SiimSaat': 25, 'Trident__': 25, 'ScrewieFred': 25, 'sofiaakingg': 3, 'MelissaMadding': 2, 'monicbello': 22, 'TravyJ82': 21}\n"
     ]
    }
   ],
   "source": [
    "# Target Generic Hashtags\n",
    "target_tags = [\"#ff\", \"#tbt\", \"#iHeartAwards\",\"#tb\", \"#marchmadness\", \"#MondayMotivation\", \n",
    "              \"fitness\"]\n",
    "user_accounts = {}\n",
    "\n",
    "# \"Real Person\" Filters\n",
    "min_tweets = 100\n",
    "max_tweets = 7500\n",
    "max_followers = 3000\n",
    "max_following = 3000\n",
    "lang = \"en\"\n",
    "    \n",
    "#Loop through the hashtags  \n",
    "for tag in target_tags: \n",
    "    \n",
    "    # Variable for holding the oldest tweet\n",
    "    oldest_tweet=None\n",
    "    \n",
    "    # Loop through target tags\n",
    "    for x in range(25):\n",
    "        \n",
    "        public_tweets = api.search(tag, count=100, result_type=\"recent\", max_id=oldest_tweet)\n",
    "    #   pprint(public_tweets)\n",
    "    \n",
    "        # Loop through all tweets\n",
    "        for tweet in public_tweets[\"statuses\"]:\n",
    "        \n",
    "            # Find the screen name\n",
    "            user = tweet[\"user\"][\"screen_name\"]\n",
    "        \n",
    "            # Define whether user is a 'real' person or not\n",
    "            if( \n",
    "                tweet[\"user\"][\"lang\"] == \"en\" and \n",
    "                \"gym\" not in tweet[\"user\"][\"description\"] and\n",
    "                tweet[\"user\"][\"followers_count\"] < max_followers and \n",
    "                tweet[\"user\"][\"statuses_count\"] > min_tweets and \n",
    "                tweet[\"user\"][\"statuses_count\"] < max_tweets and \n",
    "                tweet[\"user\"][\"friends_count\"] < max_following):\n",
    "            \n",
    "                    # Add screen name to user list\n",
    "                    if(user not in user_accounts):\n",
    "                        user_accounts[user] = 1\n",
    "                    \n",
    "                    # If it already exists add 1 to its count\n",
    "                    else:\n",
    "                        user_accounts[user] += 1 \n",
    "    \n",
    "       \n",
    "\n",
    "print(user_accounts)"
   ]
  },
  {
   "cell_type": "code",
   "execution_count": 21,
   "metadata": {},
   "outputs": [
    {
     "data": {
      "text/plain": [
       "s2gr3fvikhhVCL9    516\n",
       "Mailie98223450     150\n",
       "donniedannygirl    100\n",
       "3liasLucero         75\n",
       "buttercreambttm     50\n",
       "Kenken10123         50\n",
       "vbtsjjang           50\n",
       "d_pelko             26\n",
       "MEANGREEN80         25\n",
       "Mallika_jha         25\n",
       "Meek_tha_Menace     25\n",
       "Michell2Stephan     25\n",
       "QuiteThePair        25\n",
       "NAPaficionado       25\n",
       "LoriMWriter         25\n",
       "LeadFitness         25\n",
       "PatriotsatHeart     25\n",
       "PeterHi32200905     25\n",
       "PhatAssButt215      25\n",
       "Phillyfan7690       25\n",
       "Ploof_Unknown       25\n",
       "MsKatieChap         25\n",
       "Sad1249Sydney       25\n",
       "REACHReads          25\n",
       "R_tanner7           25\n",
       "KyleKunce           25\n",
       "SamDelisi           25\n",
       "ScrewieFred         25\n",
       "SiimSaat            25\n",
       "SupremeSteph3       25\n",
       "                  ... \n",
       "Wintery1            24\n",
       "DSwanCity           23\n",
       "monicbello          22\n",
       "AamnaXD             22\n",
       "AmandaCorden        22\n",
       "RCs_ACMan           22\n",
       "beatopfalcon        21\n",
       "TravyJ82            21\n",
       "DougSearsTewks      20\n",
       "GiaCarangiSite      14\n",
       "m4rkth0m20n2        13\n",
       "khuthal12601680     13\n",
       "kbdubbs17           13\n",
       "KnicksMafia         12\n",
       "GridironGamble      12\n",
       "wehig               12\n",
       "Sufi_bruvv          12\n",
       "sarapau55890249     11\n",
       "Ampudia16            8\n",
       "LauraCu29539177      7\n",
       "khrystel2002         5\n",
       "xLoveMyScotchx       4\n",
       "TwitchShocktikz      3\n",
       "p2thegreatest        3\n",
       "sofiaakingg          3\n",
       "MelissaMadding       2\n",
       "paliwal_soniya       2\n",
       "Roopchand71560       1\n",
       "bedelthebard         1\n",
       "317_4641             1\n",
       "Length: 167, dtype: int64"
      ]
     },
     "execution_count": 21,
     "metadata": {},
     "output_type": "execute_result"
    }
   ],
   "source": [
    "\n",
    "# Convert user_accounts object into a series\n",
    "user_accounts_pd = pd.Series(user_accounts)\n",
    "\n",
    "user_accounts_pd.sort_values(ascending=False)"
   ]
  },
  {
   "cell_type": "code",
   "execution_count": 22,
   "metadata": {},
   "outputs": [
    {
     "name": "stdout",
     "output_type": "stream",
     "text": [
      "{'TheCryptoMadMan': 0, 'nickyninjas': 0, 'WebsterHubbell': 0, 'Deb42271069': 0, 'bVvLeZMW0qxXgeB': 0, '62c560c9b80942a': 0, 'GoodIdeasComics': 0, 'COSProjectTX': 0, 'Kenken10123': 0, 'JpPmntl09': 0, 'MsKatieChap': 0, 'buttercreambttm': 0, 'VanzuelaJustine': 0, 'DassiSantoshi': 0, '60gal3': 0, 'movie_kid': 0, 'Yao_CBS': 0, 'iv_lwt': 0, 'okaystrong': 0, 'HossManley': 0, 'PhatAssButt215': 0, 'violetsky120': 0, 'QuiteThePair': 0, 'livethngivetour': 0, 'harrythefrog94': 0, 'REACHReads': 0, 'salpiccininni': 0, 'Jaclyn908': 0, 'LoriMWriter': 0, 'Kayistheking': 0, 'khuthal12601680': 0, 'Sufi_bruvv': 0, 'Mailie98223450': 0, 'putrifatimah192': 0, 'vbtsjjang': 0, 's2gr3fvikhhVCL9': 0, 'park_sefelle': 0, 'AamnaXD': 0, 'glenpyle': 0, 'Gateway_CHC': 0, 'ppDinz': 0, 'JelliiVision': 0, 'Bohalista': 0, 'alliemanzo3': 0, 'wolf44537036': 0, 'KallileG': 0, 'sharmadrryi': 0, 'madzaboutShinee': 0, 'Mallika_jha': 0, 'chuaweikiat': 0, 'LSAGeography': 0, 'idaniacazares': 0, 'unclepennyjames': 0, 'david_b_ling': 0, 'hadawayben': 0, 'Duchamplola': 0, 'taylorramos9696': 0, 'CEIBA1995': 0, 'spc_gam3r': 0, 'KutztownSAAC': 0, 'US_Marj': 0, 'ASVPXE': 0, 'amypacifico3': 0, 'R_tanner7': 0, 'lawranc65903935': 0, 'kelliannwv': 0, 'kltroyer': 0, 'MEANGREEN80': 0, 'elarson272002': 0, 'Joe_Kuyk': 0, 'ErikwithaK82': 0, 'PeterHi32200905': 0, 'TurntNugget200': 0, 'ldydemon': 0, 'jeffhoj8': 0, 'emkj96': 0, 'brent11_': 0, 'd_pelko': 0, 'PatriotsatHeart': 0, 'FreshMexChris': 0, 'BridgeSeattle': 0, 'kavidserve': 0, '_Cullen_McClain': 0, 'Galion59': 0, 'jankev83': 0, 'SupremeSteph3': 0, 'rehab0625': 0, 'kennygulo30': 0, 'GracelandBSU': 0, 'madison_valyo23': 0, 'DeSotoEaglesGBB': 0, 'Phillyfan7690': 0, 'KyleKunce': 0, 'c_scales5': 0, 'ThePointBurien': 0, 'AmandaCorden': 0, 'Ampudia16': 0, 'RCs_ACMan': 0, 'GridironGamble': 0, 'wehig': 0, 'p2thegreatest': 0, 'tradewindsnwi': 0, 'busybee2016': 0, 'SamDelisi': 0, 'DMserenityFA': 0, 'NAPaficionado': 0, 'leeamm7': 0, 'ginjorsnap': 0, 'Sad1249Sydney': 0, 'jujuwalk': 0, 'Giterdonenow': 0, 'dgiagio': 0, 'cydbennett11': 0, 'existencerased': 0, 'AnnuarAdam': 0, 'HeatherMaebee': 0, 'jammienaldrett': 0, 'Cooky_Barb2': 0, 'Meek_tha_Menace': 0, 'JUST_DREAM_1955': 0, 'SuziVo5661': 0, 'Ploof_Unknown': 0, 'HrrsL15': 0, 'dirtbustclean': 0, 'Wintery1': 0, 'beatopfalcon': 0, 'GiaCarangiSite': 0, 'm4rkth0m20n2': 0, 'kbdubbs17': 0, 'sarapau55890249': 0, 'LauraCu29539177': 0, 'xLoveMyScotchx': 0, 'paliwal_soniya': 0, 'bedelthebard': 0, 'DSwanCity': 0, 'DougSearsTewks': 0, 'KnicksMafia': 0, 'khrystel2002': 0, 'Roopchand71560': 0, '317_4641': 0, 'melaniesanch3z': 0, 'F1rstClassFit': 0, 'CalgHighrs': 0, 'bringtheruckus6': 0, 'antoniovsmith': 0, 'Thailynn6': 0, 'G0T7_Ahgase': 0, 'LeadFitness': 0, 'Michell2Stephan': 0, 'debsyres': 0, 'DanielUndead1': 0, 'ADCordova11': 0, 'iam_taymar': 0, 'marthaaalyea': 0, 'donniedannygirl': 0, 'nickguffey14': 0, '_TonyStorm': 0, 'TwitchShocktikz': 0, '3liasLucero': 0, 'D_Guapoo': 0, 'SiimSaat': 0, 'Trident__': 0, 'ScrewieFred': 0, 'sofiaakingg': 0, 'MelissaMadding': 0, 'monicbello': 0, 'TravyJ82': 0}\n"
     ]
    }
   ],
   "source": [
    "\n",
    "# Take the array and zero it out\n",
    "user_accounts = user_accounts.fromkeys(user_accounts, 0)\n",
    "\n",
    "print(user_accounts)"
   ]
  },
  {
   "cell_type": "code",
   "execution_count": 25,
   "metadata": {},
   "outputs": [
    {
     "name": "stdout",
     "output_type": "stream",
     "text": [
      "{'TheCryptoMadMan': 0, 'nickyninjas': 0, 'WebsterHubbell': 0, 'Deb42271069': 0, 'bVvLeZMW0qxXgeB': 2, '62c560c9b80942a': 0, 'GoodIdeasComics': 0, 'COSProjectTX': 0, 'Kenken10123': 0, 'JpPmntl09': 0, 'MsKatieChap': 0, 'buttercreambttm': 0, 'VanzuelaJustine': 0, 'DassiSantoshi': 0, '60gal3': 0, 'movie_kid': 0, 'Yao_CBS': 0, 'iv_lwt': 0, 'okaystrong': 0, 'HossManley': 0, 'PhatAssButt215': 0, 'violetsky120': 0, 'QuiteThePair': 0, 'livethngivetour': 0, 'harrythefrog94': 0, 'REACHReads': 0, 'salpiccininni': 0, 'Jaclyn908': 0, 'LoriMWriter': 0, 'Kayistheking': 0, 'khuthal12601680': 0, 'Sufi_bruvv': 0, 'Mailie98223450': 0, 'putrifatimah192': 0, 'vbtsjjang': 0, 's2gr3fvikhhVCL9': 0, 'park_sefelle': 0, 'AamnaXD': 0, 'glenpyle': 0, 'Gateway_CHC': 0, 'ppDinz': 0, 'JelliiVision': 0, 'Bohalista': 0, 'alliemanzo3': 0, 'wolf44537036': 0, 'KallileG': 0, 'sharmadrryi': 0, 'madzaboutShinee': 0, 'Mallika_jha': 0, 'chuaweikiat': 0, 'LSAGeography': 0, 'idaniacazares': 0, 'unclepennyjames': 0, 'david_b_ling': 0, 'hadawayben': 0, 'Duchamplola': 0, 'taylorramos9696': 0, 'CEIBA1995': 0, 'spc_gam3r': 0, 'KutztownSAAC': 0, 'US_Marj': 0, 'ASVPXE': 0, 'amypacifico3': 0, 'R_tanner7': 0, 'lawranc65903935': 0, 'kelliannwv': 0, 'kltroyer': 0, 'MEANGREEN80': 0, 'elarson272002': 0, 'Joe_Kuyk': 0, 'ErikwithaK82': 0, 'PeterHi32200905': 0, 'TurntNugget200': 0, 'ldydemon': 0, 'jeffhoj8': 0, 'emkj96': 0, 'brent11_': 0, 'd_pelko': 0, 'PatriotsatHeart': 0, 'FreshMexChris': 0, 'BridgeSeattle': 0, 'kavidserve': 0, '_Cullen_McClain': 0, 'Galion59': 0, 'jankev83': 0, 'SupremeSteph3': 0, 'rehab0625': 0, 'kennygulo30': 0, 'GracelandBSU': 0, 'madison_valyo23': 0, 'DeSotoEaglesGBB': 0, 'Phillyfan7690': 0, 'KyleKunce': 0, 'c_scales5': 0, 'ThePointBurien': 0, 'AmandaCorden': 0, 'Ampudia16': 0, 'RCs_ACMan': 0, 'GridironGamble': 0, 'wehig': 0, 'p2thegreatest': 0, 'tradewindsnwi': 0, 'busybee2016': 0, 'SamDelisi': 0, 'DMserenityFA': 0, 'NAPaficionado': 0, 'leeamm7': 0, 'ginjorsnap': 0, 'Sad1249Sydney': 0, 'jujuwalk': 0, 'Giterdonenow': 0, 'dgiagio': 0, 'cydbennett11': 0, 'existencerased': 0, 'AnnuarAdam': 0, 'HeatherMaebee': 0, 'jammienaldrett': 0, 'Cooky_Barb2': 0, 'Meek_tha_Menace': 0, 'JUST_DREAM_1955': 0, 'SuziVo5661': 0, 'Ploof_Unknown': 0, 'HrrsL15': 0, 'dirtbustclean': 0, 'Wintery1': 0, 'beatopfalcon': 0, 'GiaCarangiSite': 0, 'm4rkth0m20n2': 0, 'kbdubbs17': 0, 'sarapau55890249': 0, 'LauraCu29539177': 0, 'xLoveMyScotchx': 0, 'paliwal_soniya': 0, 'bedelthebard': 0, 'DSwanCity': 0, 'DougSearsTewks': 0, 'KnicksMafia': 0, 'khrystel2002': 0, 'Roopchand71560': 0, '317_4641': 0, 'melaniesanch3z': 0, 'F1rstClassFit': 0, 'CalgHighrs': 0, 'bringtheruckus6': 10, 'antoniovsmith': 0, 'Thailynn6': 0, 'G0T7_Ahgase': 0, 'LeadFitness': 0, 'Michell2Stephan': 0, 'debsyres': 2, 'DanielUndead1': 0, 'ADCordova11': 0, 'iam_taymar': 0, 'marthaaalyea': 0, 'donniedannygirl': 0, 'nickguffey14': 0, '_TonyStorm': 0, 'TwitchShocktikz': 0, '3liasLucero': 0, 'D_Guapoo': 0, 'SiimSaat': 0, 'Trident__': 0, 'ScrewieFred': 0, 'sofiaakingg': 0, 'MelissaMadding': 0, 'monicbello': 0, 'TravyJ82': 0}\n"
     ]
    }
   ],
   "source": [
    "# Try creating lists by finding people first and then filtering for fitness\n",
    "\n",
    "target_tags = [\"#nopainnogain\", \"#cardio\", \"#cycling\", \n",
    "               \"#fitfam\", \"#fitlife\",\"#fitness\", \"#fitnessaddict\", \"#gymlife\", \n",
    "              \"#gymtime\", \"#sweat\", \"#workout\", \"#marathon\", \"#runners\",\n",
    "              \"#bodybuilding\", \"#beachbody\", \"#motivation\", \"#justdoit\"]\n",
    "\n",
    "\n",
    "# Loop through the users list\n",
    "for user in user_accounts:\n",
    "    \n",
    "    # Pull their tweets\n",
    "    user_tweets = api.user_timeline(user, rpp=100)\n",
    "#     pprint(user_tweets)\n",
    "    \n",
    "    # Loop through the tweets to count how often they use the fitness tags\n",
    "    for tweet in user_tweets:\n",
    "        \n",
    "        # Check to see if the tweets contain the fitness hashtags\n",
    "        if (\"#nopainnogain\" in tweet[\"text\"] or\n",
    "        \"#cardio\" in tweet[\"text\"] or\n",
    "        \"#cycling\" in tweet[\"text\"] or\n",
    "        \"#fitfam\" in tweet[\"text\"] or\n",
    "        \"#fitlife\" in tweet[\"text\"] or\n",
    "        \"#fitness\" in tweet[\"text\"] or\n",
    "        \"#fitnessaddict\" in tweet[\"text\"] or\n",
    "        \"#gymlife\" in tweet[\"text\"]or\n",
    "        \"#gymtime\" in tweet[\"text\"] or\n",
    "        \"#sweat\" in tweet[\"text\"] or\n",
    "        \"#workout\" in tweet[\"text\"] or\n",
    "        \"#marathon\" in tweet[\"text\"] or\n",
    "        \"#runners\" in tweet[\"text\"] or\n",
    "        \"#bodybuilding\" in tweet[\"text\"] or\n",
    "        \"#beachbody\" in tweet[\"text\"] or\n",
    "        \"#motivation\" in tweet[\"text\"] or\n",
    "        \"#justdoit\" in tweet[\"text\"]):\n",
    "            \n",
    "            # Count how many times they've been used\n",
    "            user_accounts[user] += 1\n",
    "        \n",
    "# View         \n",
    "print(user_accounts)\n"
   ]
  },
  {
   "cell_type": "code",
   "execution_count": 24,
   "metadata": {},
   "outputs": [
    {
     "data": {
      "text/plain": [
       "bringtheruckus6    5\n",
       "debsyres           1\n",
       "bVvLeZMW0qxXgeB    1\n",
       "xLoveMyScotchx     0\n",
       "NAPaficionado      0\n",
       "Michell2Stephan    0\n",
       "MelissaMadding     0\n",
       "Meek_tha_Menace    0\n",
       "Mallika_jha        0\n",
       "Mailie98223450     0\n",
       "MEANGREEN80        0\n",
       "LoriMWriter        0\n",
       "LeadFitness        0\n",
       "LauraCu29539177    0\n",
       "LSAGeography       0\n",
       "KyleKunce          0\n",
       "KutztownSAAC       0\n",
       "KnicksMafia        0\n",
       "Kenken10123        0\n",
       "Kayistheking       0\n",
       "KallileG           0\n",
       "MsKatieChap        0\n",
       "PatriotsatHeart    0\n",
       "Joe_Kuyk           0\n",
       "Sad1249Sydney      0\n",
       "Thailynn6          0\n",
       "SuziVo5661         0\n",
       "SupremeSteph3      0\n",
       "Sufi_bruvv         0\n",
       "SiimSaat           0\n",
       "                  ..\n",
       "_TonyStorm         0\n",
       "_Cullen_McClain    0\n",
       "Yao_CBS            0\n",
       "Wintery1           0\n",
       "WebsterHubbell     0\n",
       "VanzuelaJustine    0\n",
       "US_Marj            0\n",
       "TwitchShocktikz    0\n",
       "TurntNugget200     0\n",
       "c_scales5          0\n",
       "chuaweikiat        0\n",
       "cydbennett11       0\n",
       "glenpyle           0\n",
       "jankev83           0\n",
       "jammienaldrett     0\n",
       "iv_lwt             0\n",
       "idaniacazares      0\n",
       "iam_taymar         0\n",
       "harrythefrog94     0\n",
       "hadawayben         0\n",
       "ginjorsnap         0\n",
       "d_pelko            0\n",
       "existencerased     0\n",
       "emkj96             0\n",
       "elarson272002      0\n",
       "donniedannygirl    0\n",
       "dirtbustclean      0\n",
       "dgiagio            0\n",
       "david_b_ling       0\n",
       "317_4641           0\n",
       "Length: 167, dtype: int64"
      ]
     },
     "execution_count": 24,
     "metadata": {},
     "output_type": "execute_result"
    }
   ],
   "source": [
    "# Convert user_accounts object into a series\n",
    "users_pd = pd.Series(user_accounts)\n",
    "\n",
    "users_pd.sort_values(ascending=False)"
   ]
  },
  {
   "cell_type": "code",
   "execution_count": null,
   "metadata": {
    "collapsed": true
   },
   "outputs": [],
   "source": []
  }
 ],
 "metadata": {
  "kernelspec": {
   "display_name": "Python 3",
   "language": "python",
   "name": "python3"
  },
  "language_info": {
   "codemirror_mode": {
    "name": "ipython",
    "version": 3
   },
   "file_extension": ".py",
   "mimetype": "text/x-python",
   "name": "python",
   "nbconvert_exporter": "python",
   "pygments_lexer": "ipython3",
   "version": "3.6.3"
  }
 },
 "nbformat": 4,
 "nbformat_minor": 2
}
