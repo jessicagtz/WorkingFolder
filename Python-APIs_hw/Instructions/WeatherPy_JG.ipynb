{
 "cells": [
  {
   "cell_type": "code",
   "execution_count": 3,
   "metadata": {
    "collapsed": true
   },
   "outputs": [],
   "source": [
    "# Dependencies\n",
    "import json\n",
    "import requests\n",
    "from citipy import citipy\n",
    "from random import uniform\n",
    "import pandas as pd\n",
    "import matplotlib.pyplot as plt\n",
    "\n",
    "\n",
    "\n",
    "\n",
    "#Import api_key \n",
    "from config import api_key"
   ]
  },
  {
   "cell_type": "code",
   "execution_count": 4,
   "metadata": {},
   "outputs": [],
   "source": [
    "# Generate Cities List\n",
    "cities = []\n",
    "def newpoint():\n",
    "    return uniform(-180, 180), uniform(-90, 90)\n",
    "\n",
    "r_coordinates = (newpoint() for x in range(10))\n",
    "for coordinate_pair in r_coordinates:\n",
    "    #print (city)\n",
    "    cities.append(coordinate_pair)\n",
    "    \n",
    "\n",
    "#cities "
   ]
  },
  {
   "cell_type": "code",
   "execution_count": 5,
   "metadata": {},
   "outputs": [
    {
     "data": {
      "text/html": [
       "<div>\n",
       "<style>\n",
       "    .dataframe thead tr:only-child th {\n",
       "        text-align: right;\n",
       "    }\n",
       "\n",
       "    .dataframe thead th {\n",
       "        text-align: left;\n",
       "    }\n",
       "\n",
       "    .dataframe tbody tr th {\n",
       "        vertical-align: top;\n",
       "    }\n",
       "</style>\n",
       "<table border=\"1\" class=\"dataframe\">\n",
       "  <thead>\n",
       "    <tr style=\"text-align: right;\">\n",
       "      <th></th>\n",
       "      <th>lon</th>\n",
       "      <th>lat</th>\n",
       "    </tr>\n",
       "  </thead>\n",
       "  <tbody>\n",
       "    <tr>\n",
       "      <th>0</th>\n",
       "      <td>22.397912</td>\n",
       "      <td>-71.890572</td>\n",
       "    </tr>\n",
       "    <tr>\n",
       "      <th>1</th>\n",
       "      <td>105.828112</td>\n",
       "      <td>-68.195084</td>\n",
       "    </tr>\n",
       "    <tr>\n",
       "      <th>2</th>\n",
       "      <td>-42.325238</td>\n",
       "      <td>47.013970</td>\n",
       "    </tr>\n",
       "    <tr>\n",
       "      <th>3</th>\n",
       "      <td>100.682371</td>\n",
       "      <td>84.757720</td>\n",
       "    </tr>\n",
       "    <tr>\n",
       "      <th>4</th>\n",
       "      <td>9.352384</td>\n",
       "      <td>-87.110704</td>\n",
       "    </tr>\n",
       "    <tr>\n",
       "      <th>5</th>\n",
       "      <td>-32.235826</td>\n",
       "      <td>21.764187</td>\n",
       "    </tr>\n",
       "    <tr>\n",
       "      <th>6</th>\n",
       "      <td>-174.447233</td>\n",
       "      <td>-3.619304</td>\n",
       "    </tr>\n",
       "    <tr>\n",
       "      <th>7</th>\n",
       "      <td>-86.954269</td>\n",
       "      <td>44.959605</td>\n",
       "    </tr>\n",
       "    <tr>\n",
       "      <th>8</th>\n",
       "      <td>-113.185319</td>\n",
       "      <td>-34.379829</td>\n",
       "    </tr>\n",
       "    <tr>\n",
       "      <th>9</th>\n",
       "      <td>-128.295685</td>\n",
       "      <td>-70.729313</td>\n",
       "    </tr>\n",
       "  </tbody>\n",
       "</table>\n",
       "</div>"
      ],
      "text/plain": [
       "          lon        lat\n",
       "0   22.397912 -71.890572\n",
       "1  105.828112 -68.195084\n",
       "2  -42.325238  47.013970\n",
       "3  100.682371  84.757720\n",
       "4    9.352384 -87.110704\n",
       "5  -32.235826  21.764187\n",
       "6 -174.447233  -3.619304\n",
       "7  -86.954269  44.959605\n",
       "8 -113.185319 -34.379829\n",
       "9 -128.295685 -70.729313"
      ]
     },
     "execution_count": 5,
     "metadata": {},
     "output_type": "execute_result"
    }
   ],
   "source": [
    "labels= [\"lon\", \"lat\"]\n",
    "cities_coordinates = pd.DataFrame(cities, columns=labels)\n",
    "cities_coordinates"
   ]
  },
  {
   "cell_type": "code",
   "execution_count": 14,
   "metadata": {},
   "outputs": [
    {
     "name": "stdout",
     "output_type": "stream",
     "text": [
      "(0, lon    22.397912\n",
      "lat   -71.890572\n",
      "Name: 0, dtype: float64)\n",
      "http://api.openweathermap.org/data/2.5/weather?lat=-71.8905722133&lat=-68.1950840199&lat=47.0139704827&lat=84.7577201899&lat=-87.1107043753&lat=21.76418658&lat=-3.61930363178&lat=44.9596051267&lat=-34.3798285068&lat=-70.7293132549&lon=22.3979116099&lon=105.828112184&lon=-42.325238236&lon=100.682370601&lon=9.35238391683&lon=-32.2358256197&lon=-174.447233091&lon=-86.9542690362&lon=-113.185319315&lon=-128.295685183&units=imperial&appid=3c4a5bf4e16f21b1cccc13f0224ac2da\n",
      "http://api.openweathermap.org/data/2.5/weather?lat=-71.8905722133&lat=-68.1950840199&lat=47.0139704827&lat=84.7577201899&lat=-87.1107043753&lat=21.76418658&lat=-3.61930363178&lat=44.9596051267&lat=-34.3798285068&lat=-70.7293132549&lon=22.3979116099&lon=105.828112184&lon=-42.325238236&lon=100.682370601&lon=9.35238391683&lon=-32.2358256197&lon=-174.447233091&lon=-86.9542690362&lon=-113.185319315&lon=-128.295685183&units=imperial&appid=3c4a5bf4e16f21b1cccc13f0224ac2da\n",
      "(1, lon    105.828112\n",
      "lat    -68.195084\n",
      "Name: 1, dtype: float64)\n",
      "http://api.openweathermap.org/data/2.5/weather?lat=-71.8905722133&lat=-68.1950840199&lat=47.0139704827&lat=84.7577201899&lat=-87.1107043753&lat=21.76418658&lat=-3.61930363178&lat=44.9596051267&lat=-34.3798285068&lat=-70.7293132549&lon=22.3979116099&lon=105.828112184&lon=-42.325238236&lon=100.682370601&lon=9.35238391683&lon=-32.2358256197&lon=-174.447233091&lon=-86.9542690362&lon=-113.185319315&lon=-128.295685183&units=imperial&appid=3c4a5bf4e16f21b1cccc13f0224ac2da\n",
      "http://api.openweathermap.org/data/2.5/weather?lat=-71.8905722133&lat=-68.1950840199&lat=47.0139704827&lat=84.7577201899&lat=-87.1107043753&lat=21.76418658&lat=-3.61930363178&lat=44.9596051267&lat=-34.3798285068&lat=-70.7293132549&lon=22.3979116099&lon=105.828112184&lon=-42.325238236&lon=100.682370601&lon=9.35238391683&lon=-32.2358256197&lon=-174.447233091&lon=-86.9542690362&lon=-113.185319315&lon=-128.295685183&units=imperial&appid=3c4a5bf4e16f21b1cccc13f0224ac2da\n",
      "(2, lon   -42.325238\n",
      "lat    47.013970\n",
      "Name: 2, dtype: float64)\n",
      "http://api.openweathermap.org/data/2.5/weather?lat=-71.8905722133&lat=-68.1950840199&lat=47.0139704827&lat=84.7577201899&lat=-87.1107043753&lat=21.76418658&lat=-3.61930363178&lat=44.9596051267&lat=-34.3798285068&lat=-70.7293132549&lon=22.3979116099&lon=105.828112184&lon=-42.325238236&lon=100.682370601&lon=9.35238391683&lon=-32.2358256197&lon=-174.447233091&lon=-86.9542690362&lon=-113.185319315&lon=-128.295685183&units=imperial&appid=3c4a5bf4e16f21b1cccc13f0224ac2da\n",
      "http://api.openweathermap.org/data/2.5/weather?lat=-71.8905722133&lat=-68.1950840199&lat=47.0139704827&lat=84.7577201899&lat=-87.1107043753&lat=21.76418658&lat=-3.61930363178&lat=44.9596051267&lat=-34.3798285068&lat=-70.7293132549&lon=22.3979116099&lon=105.828112184&lon=-42.325238236&lon=100.682370601&lon=9.35238391683&lon=-32.2358256197&lon=-174.447233091&lon=-86.9542690362&lon=-113.185319315&lon=-128.295685183&units=imperial&appid=3c4a5bf4e16f21b1cccc13f0224ac2da\n",
      "(3, lon    100.682371\n",
      "lat     84.757720\n",
      "Name: 3, dtype: float64)\n",
      "http://api.openweathermap.org/data/2.5/weather?lat=-71.8905722133&lat=-68.1950840199&lat=47.0139704827&lat=84.7577201899&lat=-87.1107043753&lat=21.76418658&lat=-3.61930363178&lat=44.9596051267&lat=-34.3798285068&lat=-70.7293132549&lon=22.3979116099&lon=105.828112184&lon=-42.325238236&lon=100.682370601&lon=9.35238391683&lon=-32.2358256197&lon=-174.447233091&lon=-86.9542690362&lon=-113.185319315&lon=-128.295685183&units=imperial&appid=3c4a5bf4e16f21b1cccc13f0224ac2da\n",
      "http://api.openweathermap.org/data/2.5/weather?lat=-71.8905722133&lat=-68.1950840199&lat=47.0139704827&lat=84.7577201899&lat=-87.1107043753&lat=21.76418658&lat=-3.61930363178&lat=44.9596051267&lat=-34.3798285068&lat=-70.7293132549&lon=22.3979116099&lon=105.828112184&lon=-42.325238236&lon=100.682370601&lon=9.35238391683&lon=-32.2358256197&lon=-174.447233091&lon=-86.9542690362&lon=-113.185319315&lon=-128.295685183&units=imperial&appid=3c4a5bf4e16f21b1cccc13f0224ac2da\n",
      "(4, lon     9.352384\n",
      "lat   -87.110704\n",
      "Name: 4, dtype: float64)\n",
      "http://api.openweathermap.org/data/2.5/weather?lat=-71.8905722133&lat=-68.1950840199&lat=47.0139704827&lat=84.7577201899&lat=-87.1107043753&lat=21.76418658&lat=-3.61930363178&lat=44.9596051267&lat=-34.3798285068&lat=-70.7293132549&lon=22.3979116099&lon=105.828112184&lon=-42.325238236&lon=100.682370601&lon=9.35238391683&lon=-32.2358256197&lon=-174.447233091&lon=-86.9542690362&lon=-113.185319315&lon=-128.295685183&units=imperial&appid=3c4a5bf4e16f21b1cccc13f0224ac2da\n",
      "http://api.openweathermap.org/data/2.5/weather?lat=-71.8905722133&lat=-68.1950840199&lat=47.0139704827&lat=84.7577201899&lat=-87.1107043753&lat=21.76418658&lat=-3.61930363178&lat=44.9596051267&lat=-34.3798285068&lat=-70.7293132549&lon=22.3979116099&lon=105.828112184&lon=-42.325238236&lon=100.682370601&lon=9.35238391683&lon=-32.2358256197&lon=-174.447233091&lon=-86.9542690362&lon=-113.185319315&lon=-128.295685183&units=imperial&appid=3c4a5bf4e16f21b1cccc13f0224ac2da\n",
      "(5, lon   -32.235826\n",
      "lat    21.764187\n",
      "Name: 5, dtype: float64)\n",
      "http://api.openweathermap.org/data/2.5/weather?lat=-71.8905722133&lat=-68.1950840199&lat=47.0139704827&lat=84.7577201899&lat=-87.1107043753&lat=21.76418658&lat=-3.61930363178&lat=44.9596051267&lat=-34.3798285068&lat=-70.7293132549&lon=22.3979116099&lon=105.828112184&lon=-42.325238236&lon=100.682370601&lon=9.35238391683&lon=-32.2358256197&lon=-174.447233091&lon=-86.9542690362&lon=-113.185319315&lon=-128.295685183&units=imperial&appid=3c4a5bf4e16f21b1cccc13f0224ac2da\n",
      "http://api.openweathermap.org/data/2.5/weather?lat=-71.8905722133&lat=-68.1950840199&lat=47.0139704827&lat=84.7577201899&lat=-87.1107043753&lat=21.76418658&lat=-3.61930363178&lat=44.9596051267&lat=-34.3798285068&lat=-70.7293132549&lon=22.3979116099&lon=105.828112184&lon=-42.325238236&lon=100.682370601&lon=9.35238391683&lon=-32.2358256197&lon=-174.447233091&lon=-86.9542690362&lon=-113.185319315&lon=-128.295685183&units=imperial&appid=3c4a5bf4e16f21b1cccc13f0224ac2da\n",
      "(6, lon   -174.447233\n",
      "lat     -3.619304\n",
      "Name: 6, dtype: float64)\n",
      "http://api.openweathermap.org/data/2.5/weather?lat=-71.8905722133&lat=-68.1950840199&lat=47.0139704827&lat=84.7577201899&lat=-87.1107043753&lat=21.76418658&lat=-3.61930363178&lat=44.9596051267&lat=-34.3798285068&lat=-70.7293132549&lon=22.3979116099&lon=105.828112184&lon=-42.325238236&lon=100.682370601&lon=9.35238391683&lon=-32.2358256197&lon=-174.447233091&lon=-86.9542690362&lon=-113.185319315&lon=-128.295685183&units=imperial&appid=3c4a5bf4e16f21b1cccc13f0224ac2da\n",
      "http://api.openweathermap.org/data/2.5/weather?lat=-71.8905722133&lat=-68.1950840199&lat=47.0139704827&lat=84.7577201899&lat=-87.1107043753&lat=21.76418658&lat=-3.61930363178&lat=44.9596051267&lat=-34.3798285068&lat=-70.7293132549&lon=22.3979116099&lon=105.828112184&lon=-42.325238236&lon=100.682370601&lon=9.35238391683&lon=-32.2358256197&lon=-174.447233091&lon=-86.9542690362&lon=-113.185319315&lon=-128.295685183&units=imperial&appid=3c4a5bf4e16f21b1cccc13f0224ac2da\n",
      "(7, lon   -86.954269\n",
      "lat    44.959605\n",
      "Name: 7, dtype: float64)\n",
      "http://api.openweathermap.org/data/2.5/weather?lat=-71.8905722133&lat=-68.1950840199&lat=47.0139704827&lat=84.7577201899&lat=-87.1107043753&lat=21.76418658&lat=-3.61930363178&lat=44.9596051267&lat=-34.3798285068&lat=-70.7293132549&lon=22.3979116099&lon=105.828112184&lon=-42.325238236&lon=100.682370601&lon=9.35238391683&lon=-32.2358256197&lon=-174.447233091&lon=-86.9542690362&lon=-113.185319315&lon=-128.295685183&units=imperial&appid=3c4a5bf4e16f21b1cccc13f0224ac2da\n",
      "http://api.openweathermap.org/data/2.5/weather?lat=-71.8905722133&lat=-68.1950840199&lat=47.0139704827&lat=84.7577201899&lat=-87.1107043753&lat=21.76418658&lat=-3.61930363178&lat=44.9596051267&lat=-34.3798285068&lat=-70.7293132549&lon=22.3979116099&lon=105.828112184&lon=-42.325238236&lon=100.682370601&lon=9.35238391683&lon=-32.2358256197&lon=-174.447233091&lon=-86.9542690362&lon=-113.185319315&lon=-128.295685183&units=imperial&appid=3c4a5bf4e16f21b1cccc13f0224ac2da\n",
      "(8, lon   -113.185319\n",
      "lat    -34.379829\n",
      "Name: 8, dtype: float64)\n",
      "http://api.openweathermap.org/data/2.5/weather?lat=-71.8905722133&lat=-68.1950840199&lat=47.0139704827&lat=84.7577201899&lat=-87.1107043753&lat=21.76418658&lat=-3.61930363178&lat=44.9596051267&lat=-34.3798285068&lat=-70.7293132549&lon=22.3979116099&lon=105.828112184&lon=-42.325238236&lon=100.682370601&lon=9.35238391683&lon=-32.2358256197&lon=-174.447233091&lon=-86.9542690362&lon=-113.185319315&lon=-128.295685183&units=imperial&appid=3c4a5bf4e16f21b1cccc13f0224ac2da\n",
      "http://api.openweathermap.org/data/2.5/weather?lat=-71.8905722133&lat=-68.1950840199&lat=47.0139704827&lat=84.7577201899&lat=-87.1107043753&lat=21.76418658&lat=-3.61930363178&lat=44.9596051267&lat=-34.3798285068&lat=-70.7293132549&lon=22.3979116099&lon=105.828112184&lon=-42.325238236&lon=100.682370601&lon=9.35238391683&lon=-32.2358256197&lon=-174.447233091&lon=-86.9542690362&lon=-113.185319315&lon=-128.295685183&units=imperial&appid=3c4a5bf4e16f21b1cccc13f0224ac2da\n",
      "(9, lon   -128.295685\n",
      "lat    -70.729313\n",
      "Name: 9, dtype: float64)\n"
     ]
    },
    {
     "name": "stdout",
     "output_type": "stream",
     "text": [
      "http://api.openweathermap.org/data/2.5/weather?lat=-71.8905722133&lat=-68.1950840199&lat=47.0139704827&lat=84.7577201899&lat=-87.1107043753&lat=21.76418658&lat=-3.61930363178&lat=44.9596051267&lat=-34.3798285068&lat=-70.7293132549&lon=22.3979116099&lon=105.828112184&lon=-42.325238236&lon=100.682370601&lon=9.35238391683&lon=-32.2358256197&lon=-174.447233091&lon=-86.9542690362&lon=-113.185319315&lon=-128.295685183&units=imperial&appid=3c4a5bf4e16f21b1cccc13f0224ac2da\n",
      "http://api.openweathermap.org/data/2.5/weather?lat=-71.8905722133&lat=-68.1950840199&lat=47.0139704827&lat=84.7577201899&lat=-87.1107043753&lat=21.76418658&lat=-3.61930363178&lat=44.9596051267&lat=-34.3798285068&lat=-70.7293132549&lon=22.3979116099&lon=105.828112184&lon=-42.325238236&lon=100.682370601&lon=9.35238391683&lon=-32.2358256197&lon=-174.447233091&lon=-86.9542690362&lon=-113.185319315&lon=-128.295685183&units=imperial&appid=3c4a5bf4e16f21b1cccc13f0224ac2da\n"
     ]
    }
   ],
   "source": [
    "for city in cities_coordinates.iterrows():\n",
    "    lat= cities_coordinates[\"lat\"]\n",
    "    lon = cities_coordinates[\"lon\"]\n",
    "    print(city)\n",
    "    \n",
    "    for city in cities_coordinates:\n",
    "        url = f\"http://api.openweathermap.org/data/2.5/weather?\"\n",
    "        params = {\n",
    "        \"lat\": lat,\n",
    "        \"lon\": lon,\n",
    "        \"units\": \"imperial\",\n",
    "        \"appid\": api_key\n",
    "        }\n",
    "         # Perform the API call to get the weather\n",
    "        weather_response = requests.get(url, params=params)\n",
    "        print(weather_response.url) #print URL\n",
    "        \n",
    "        \n",
    "        "
   ]
  },
  {
   "cell_type": "code",
   "execution_count": 15,
   "metadata": {},
   "outputs": [
    {
     "data": {
      "text/plain": [
       "{'base': 'stations',\n",
       " 'clouds': {'all': 0},\n",
       " 'cod': 200,\n",
       " 'coord': {'lat': -71.89, 'lon': 22.4},\n",
       " 'dt': 1520980245,\n",
       " 'id': 0,\n",
       " 'main': {'grnd_level': 840.06,\n",
       "  'humidity': 44,\n",
       "  'pressure': 840.06,\n",
       "  'sea_level': 1012.16,\n",
       "  'temp': -18.56,\n",
       "  'temp_max': -18.56,\n",
       "  'temp_min': -18.56},\n",
       " 'name': '',\n",
       " 'sys': {'message': 0.0035, 'sunrise': 1520913415, 'sunset': 1520961573},\n",
       " 'weather': [{'description': 'clear sky',\n",
       "   'icon': '01n',\n",
       "   'id': 800,\n",
       "   'main': 'Clear'}],\n",
       " 'wind': {'deg': 165.5, 'speed': 5.41}}"
      ]
     },
     "execution_count": 15,
     "metadata": {},
     "output_type": "execute_result"
    }
   ],
   "source": [
    "weather_json = weather_response.json()\n",
    "weather_json"
   ]
  },
  {
   "cell_type": "code",
   "execution_count": 22,
   "metadata": {},
   "outputs": [
    {
     "ename": "SyntaxError",
     "evalue": "invalid syntax (<ipython-input-22-a3a7582de7ce>, line 4)",
     "output_type": "error",
     "traceback": [
      "\u001b[0;36m  File \u001b[0;32m\"<ipython-input-22-a3a7582de7ce>\"\u001b[0;36m, line \u001b[0;32m4\u001b[0m\n\u001b[0;31m    \"id\": City ID,\u001b[0m\n\u001b[0m                ^\u001b[0m\n\u001b[0;31mSyntaxError\u001b[0m\u001b[0;31m:\u001b[0m invalid syntax\n"
     ]
    }
   ],
   "source": [
    "# create a data frame from\n",
    "weather_dict = {\n",
    "    \"name\": City,\n",
    "    \"id\": City ID,\n",
    "    \"temp\": Temp (F),\n",
    "    \"main[1]\": Humidity(%),\n",
    "    \"clouds\": Cloudiness (%),\n",
    "    \"wind[1]\": Wind Speed(%)\n",
    "    \n",
    "}\n",
    "weather_data = pd.DataFrame(weather_dict)\n",
    "weather_data.head()"
   ]
  },
  {
   "cell_type": "code",
   "execution_count": null,
   "metadata": {
    "collapsed": true
   },
   "outputs": [],
   "source": []
  }
 ],
 "metadata": {
  "kernelspec": {
   "display_name": "Python 3",
   "language": "python",
   "name": "python3"
  },
  "language_info": {
   "codemirror_mode": {
    "name": "ipython",
    "version": 3
   },
   "file_extension": ".py",
   "mimetype": "text/x-python",
   "name": "python",
   "nbconvert_exporter": "python",
   "pygments_lexer": "ipython3",
   "version": "3.6.3"
  }
 },
 "nbformat": 4,
 "nbformat_minor": 2
}
