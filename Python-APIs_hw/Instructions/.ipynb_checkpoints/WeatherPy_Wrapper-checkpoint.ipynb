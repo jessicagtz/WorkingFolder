{
 "cells": [
  {
   "cell_type": "code",
   "execution_count": 2,
   "metadata": {
    "collapsed": true
   },
   "outputs": [],
   "source": [
    "#1 Generate Cities List\n",
    "#2 Perform API Calls\n",
    "#3 Display the City Data Frame"
   ]
  },
  {
   "cell_type": "code",
   "execution_count": 3,
   "metadata": {
    "collapsed": true
   },
   "outputs": [],
   "source": [
    "# Dependencies\n",
    "import json\n",
    "import requests\n",
    "from citipy import citipy\n",
    "from random import uniform\n",
    "import pandas as pd\n",
    "import openweathermapy.core as ow\n",
    "import matplotlib.pyplot as plt\n",
    "\n",
    "\n",
    "\n",
    "#Import api_key \n",
    "from config import api_key"
   ]
  },
  {
   "cell_type": "code",
   "execution_count": 4,
   "metadata": {
    "collapsed": true
   },
   "outputs": [],
   "source": [
    "cities = []\n",
    "def newpoint():\n",
    "    return uniform(-180, 180), uniform(-90, 90)\n",
    "\n",
    "r_coordinates = (newpoint() for x in range(10))\n",
    "for coordinate_pair in r_coordinates:\n",
    "    #print (city)\n",
    "    cities.append(coordinate_pair)"
   ]
  },
  {
   "cell_type": "code",
   "execution_count": 5,
   "metadata": {},
   "outputs": [
    {
     "data": {
      "text/plain": [
       "[(72.65973609305749, 50.68795662692145),\n",
       " (-27.434732374289922, -77.1741235289172),\n",
       " (19.543570930778714, -62.34000770103577),\n",
       " (-114.03140946757108, -15.486100359958712),\n",
       " (-39.086155222602514, 59.59217564689155),\n",
       " (88.92842881859838, -59.66145628298192),\n",
       " (18.914039100478732, 1.8043136873557444),\n",
       " (91.38820431906856, 81.46999071362333),\n",
       " (-112.14162181580245, -78.83543387148136),\n",
       " (74.20592234728917, -13.722600037570913)]"
      ]
     },
     "execution_count": 5,
     "metadata": {},
     "output_type": "execute_result"
    }
   ],
   "source": [
    "cities"
   ]
  },
  {
   "cell_type": "code",
   "execution_count": 6,
   "metadata": {},
   "outputs": [
    {
     "data": {
      "text/html": [
       "<div>\n",
       "<style>\n",
       "    .dataframe thead tr:only-child th {\n",
       "        text-align: right;\n",
       "    }\n",
       "\n",
       "    .dataframe thead th {\n",
       "        text-align: left;\n",
       "    }\n",
       "\n",
       "    .dataframe tbody tr th {\n",
       "        vertical-align: top;\n",
       "    }\n",
       "</style>\n",
       "<table border=\"1\" class=\"dataframe\">\n",
       "  <thead>\n",
       "    <tr style=\"text-align: right;\">\n",
       "      <th></th>\n",
       "      <th>lon</th>\n",
       "      <th>lat</th>\n",
       "    </tr>\n",
       "  </thead>\n",
       "  <tbody>\n",
       "    <tr>\n",
       "      <th>0</th>\n",
       "      <td>72.659736</td>\n",
       "      <td>50.687957</td>\n",
       "    </tr>\n",
       "    <tr>\n",
       "      <th>1</th>\n",
       "      <td>-27.434732</td>\n",
       "      <td>-77.174124</td>\n",
       "    </tr>\n",
       "    <tr>\n",
       "      <th>2</th>\n",
       "      <td>19.543571</td>\n",
       "      <td>-62.340008</td>\n",
       "    </tr>\n",
       "    <tr>\n",
       "      <th>3</th>\n",
       "      <td>-114.031409</td>\n",
       "      <td>-15.486100</td>\n",
       "    </tr>\n",
       "    <tr>\n",
       "      <th>4</th>\n",
       "      <td>-39.086155</td>\n",
       "      <td>59.592176</td>\n",
       "    </tr>\n",
       "    <tr>\n",
       "      <th>5</th>\n",
       "      <td>88.928429</td>\n",
       "      <td>-59.661456</td>\n",
       "    </tr>\n",
       "    <tr>\n",
       "      <th>6</th>\n",
       "      <td>18.914039</td>\n",
       "      <td>1.804314</td>\n",
       "    </tr>\n",
       "    <tr>\n",
       "      <th>7</th>\n",
       "      <td>91.388204</td>\n",
       "      <td>81.469991</td>\n",
       "    </tr>\n",
       "    <tr>\n",
       "      <th>8</th>\n",
       "      <td>-112.141622</td>\n",
       "      <td>-78.835434</td>\n",
       "    </tr>\n",
       "    <tr>\n",
       "      <th>9</th>\n",
       "      <td>74.205922</td>\n",
       "      <td>-13.722600</td>\n",
       "    </tr>\n",
       "  </tbody>\n",
       "</table>\n",
       "</div>"
      ],
      "text/plain": [
       "          lon        lat\n",
       "0   72.659736  50.687957\n",
       "1  -27.434732 -77.174124\n",
       "2   19.543571 -62.340008\n",
       "3 -114.031409 -15.486100\n",
       "4  -39.086155  59.592176\n",
       "5   88.928429 -59.661456\n",
       "6   18.914039   1.804314\n",
       "7   91.388204  81.469991\n",
       "8 -112.141622 -78.835434\n",
       "9   74.205922 -13.722600"
      ]
     },
     "execution_count": 6,
     "metadata": {},
     "output_type": "execute_result"
    }
   ],
   "source": [
    "labels= [\"lon\", \"lat\"]\n",
    "cities_coordinates = pd.DataFrame(cities, columns=labels)\n",
    "cities_coordinates"
   ]
  },
  {
   "cell_type": "code",
   "execution_count": 7,
   "metadata": {},
   "outputs": [],
   "source": [
    "#Save coordiantes as csv \n",
    "cities_coordinates.to_csv(\"output_analysis/cities_coordinates.csv\",\n",
    "                     encoding=\"utf-8\", index=False)"
   ]
  },
  {
   "cell_type": "code",
   "execution_count": 8,
   "metadata": {},
   "outputs": [],
   "source": [
    "settings = {\"appid\": api_key, \n",
    "            \"units\": \"imperial\",\n",
    "            \"lat\": cities_coordinates[\"lat\"],\n",
    "            \"lon\": cities_coordinates[\"lon\"] }\n",
    "weather_data= []"
   ]
  },
  {
   "cell_type": "code",
   "execution_count": 15,
   "metadata": {},
   "outputs": [
    {
     "name": "stdout",
     "output_type": "stream",
     "text": [
      "(0, lon    72.659736\n",
      "lat    50.687957\n",
      "Name: 0, dtype: float64)\n",
      "[{'coord': {'lon': -2.13, 'lat': 11.45}, 'weather': [{'id': 800, 'main': 'Clear', 'description': 'clear sky', 'icon': '01n'}], 'base': 'stations', 'main': {'temp': 85.22, 'pressure': 989.78, 'humidity': 51, 'temp_min': 85.22, 'temp_max': 85.22, 'sea_level': 1023.76, 'grnd_level': 989.78}, 'wind': {'speed': 10, 'deg': 211}, 'clouds': {'all': 0}, 'dt': 1520981096, 'sys': {'message': 0.0035, 'country': 'BF', 'sunrise': 1520921787, 'sunset': 1520965148}, 'id': 2355474, 'name': 'Lon', 'cod': 200}, {'coord': {'lon': 74.51, 'lat': 16.66}, 'weather': [{'id': 801, 'main': 'Clouds', 'description': 'few clouds', 'icon': '02n'}], 'base': 'stations', 'main': {'temp': 75.5, 'pressure': 956.87, 'humidity': 43, 'temp_min': 75.5, 'temp_max': 75.5, 'sea_level': 1022.99, 'grnd_level': 956.87}, 'wind': {'speed': 8.77, 'deg': 155.5}, 'clouds': {'all': 24}, 'dt': 1520981096, 'sys': {'message': 0.0031, 'country': 'IN', 'sunrise': 1520903457, 'sunset': 1520946702}, 'id': 1269834, 'name': 'Lat', 'cod': 200}]\n",
      "------\n",
      "(1, lon   -27.434732\n",
      "lat   -77.174124\n",
      "Name: 1, dtype: float64)\n",
      "[{'coord': {'lon': -2.13, 'lat': 11.45}, 'weather': [{'id': 800, 'main': 'Clear', 'description': 'clear sky', 'icon': '01n'}], 'base': 'stations', 'main': {'temp': 85.22, 'pressure': 989.78, 'humidity': 51, 'temp_min': 85.22, 'temp_max': 85.22, 'sea_level': 1023.76, 'grnd_level': 989.78}, 'wind': {'speed': 10, 'deg': 211}, 'clouds': {'all': 0}, 'dt': 1520981096, 'sys': {'message': 0.0035, 'country': 'BF', 'sunrise': 1520921787, 'sunset': 1520965148}, 'id': 2355474, 'name': 'Lon', 'cod': 200}, {'coord': {'lon': 74.51, 'lat': 16.66}, 'weather': [{'id': 801, 'main': 'Clouds', 'description': 'few clouds', 'icon': '02n'}], 'base': 'stations', 'main': {'temp': 75.5, 'pressure': 956.87, 'humidity': 43, 'temp_min': 75.5, 'temp_max': 75.5, 'sea_level': 1022.99, 'grnd_level': 956.87}, 'wind': {'speed': 8.77, 'deg': 155.5}, 'clouds': {'all': 24}, 'dt': 1520981096, 'sys': {'message': 0.0031, 'country': 'IN', 'sunrise': 1520903457, 'sunset': 1520946702}, 'id': 1269834, 'name': 'Lat', 'cod': 200}]\n",
      "------\n",
      "(2, lon    19.543571\n",
      "lat   -62.340008\n",
      "Name: 2, dtype: float64)\n",
      "[{'coord': {'lon': -2.13, 'lat': 11.45}, 'weather': [{'id': 800, 'main': 'Clear', 'description': 'clear sky', 'icon': '01n'}], 'base': 'stations', 'main': {'temp': 85.22, 'pressure': 989.78, 'humidity': 51, 'temp_min': 85.22, 'temp_max': 85.22, 'sea_level': 1023.76, 'grnd_level': 989.78}, 'wind': {'speed': 10, 'deg': 211}, 'clouds': {'all': 0}, 'dt': 1520981096, 'sys': {'message': 0.0035, 'country': 'BF', 'sunrise': 1520921787, 'sunset': 1520965148}, 'id': 2355474, 'name': 'Lon', 'cod': 200}, {'coord': {'lon': 74.51, 'lat': 16.66}, 'weather': [{'id': 801, 'main': 'Clouds', 'description': 'few clouds', 'icon': '02n'}], 'base': 'stations', 'main': {'temp': 75.5, 'pressure': 956.87, 'humidity': 43, 'temp_min': 75.5, 'temp_max': 75.5, 'sea_level': 1022.99, 'grnd_level': 956.87}, 'wind': {'speed': 8.77, 'deg': 155.5}, 'clouds': {'all': 24}, 'dt': 1520981096, 'sys': {'message': 0.0031, 'country': 'IN', 'sunrise': 1520903457, 'sunset': 1520946702}, 'id': 1269834, 'name': 'Lat', 'cod': 200}]\n",
      "------\n",
      "(3, lon   -114.031409\n",
      "lat    -15.486100\n",
      "Name: 3, dtype: float64)\n",
      "[{'coord': {'lon': -2.13, 'lat': 11.45}, 'weather': [{'id': 800, 'main': 'Clear', 'description': 'clear sky', 'icon': '01n'}], 'base': 'stations', 'main': {'temp': 85.22, 'pressure': 989.78, 'humidity': 51, 'temp_min': 85.22, 'temp_max': 85.22, 'sea_level': 1023.76, 'grnd_level': 989.78}, 'wind': {'speed': 10, 'deg': 211}, 'clouds': {'all': 0}, 'dt': 1520981096, 'sys': {'message': 0.0035, 'country': 'BF', 'sunrise': 1520921787, 'sunset': 1520965148}, 'id': 2355474, 'name': 'Lon', 'cod': 200}, {'coord': {'lon': 74.51, 'lat': 16.66}, 'weather': [{'id': 801, 'main': 'Clouds', 'description': 'few clouds', 'icon': '02n'}], 'base': 'stations', 'main': {'temp': 75.5, 'pressure': 956.87, 'humidity': 43, 'temp_min': 75.5, 'temp_max': 75.5, 'sea_level': 1022.99, 'grnd_level': 956.87}, 'wind': {'speed': 8.77, 'deg': 155.5}, 'clouds': {'all': 24}, 'dt': 1520981096, 'sys': {'message': 0.0031, 'country': 'IN', 'sunrise': 1520903457, 'sunset': 1520946702}, 'id': 1269834, 'name': 'Lat', 'cod': 200}]\n",
      "------\n",
      "(4, lon   -39.086155\n",
      "lat    59.592176\n",
      "Name: 4, dtype: float64)\n",
      "[{'coord': {'lon': -2.13, 'lat': 11.45}, 'weather': [{'id': 800, 'main': 'Clear', 'description': 'clear sky', 'icon': '01n'}], 'base': 'stations', 'main': {'temp': 85.22, 'pressure': 989.78, 'humidity': 51, 'temp_min': 85.22, 'temp_max': 85.22, 'sea_level': 1023.76, 'grnd_level': 989.78}, 'wind': {'speed': 10, 'deg': 211}, 'clouds': {'all': 0}, 'dt': 1520981096, 'sys': {'message': 0.0035, 'country': 'BF', 'sunrise': 1520921787, 'sunset': 1520965148}, 'id': 2355474, 'name': 'Lon', 'cod': 200}, {'coord': {'lon': 74.51, 'lat': 16.66}, 'weather': [{'id': 801, 'main': 'Clouds', 'description': 'few clouds', 'icon': '02n'}], 'base': 'stations', 'main': {'temp': 75.5, 'pressure': 956.87, 'humidity': 43, 'temp_min': 75.5, 'temp_max': 75.5, 'sea_level': 1022.99, 'grnd_level': 956.87}, 'wind': {'speed': 8.77, 'deg': 155.5}, 'clouds': {'all': 24}, 'dt': 1520981096, 'sys': {'message': 0.0031, 'country': 'IN', 'sunrise': 1520903457, 'sunset': 1520946702}, 'id': 1269834, 'name': 'Lat', 'cod': 200}]\n",
      "------\n",
      "(5, lon    88.928429\n",
      "lat   -59.661456\n",
      "Name: 5, dtype: float64)\n",
      "[{'coord': {'lon': -2.13, 'lat': 11.45}, 'weather': [{'id': 800, 'main': 'Clear', 'description': 'clear sky', 'icon': '01n'}], 'base': 'stations', 'main': {'temp': 85.22, 'pressure': 989.78, 'humidity': 51, 'temp_min': 85.22, 'temp_max': 85.22, 'sea_level': 1023.76, 'grnd_level': 989.78}, 'wind': {'speed': 10, 'deg': 211}, 'clouds': {'all': 0}, 'dt': 1520981096, 'sys': {'message': 0.0035, 'country': 'BF', 'sunrise': 1520921787, 'sunset': 1520965148}, 'id': 2355474, 'name': 'Lon', 'cod': 200}, {'coord': {'lon': 74.51, 'lat': 16.66}, 'weather': [{'id': 801, 'main': 'Clouds', 'description': 'few clouds', 'icon': '02n'}], 'base': 'stations', 'main': {'temp': 75.5, 'pressure': 956.87, 'humidity': 43, 'temp_min': 75.5, 'temp_max': 75.5, 'sea_level': 1022.99, 'grnd_level': 956.87}, 'wind': {'speed': 8.77, 'deg': 155.5}, 'clouds': {'all': 24}, 'dt': 1520981096, 'sys': {'message': 0.0031, 'country': 'IN', 'sunrise': 1520903457, 'sunset': 1520946702}, 'id': 1269834, 'name': 'Lat', 'cod': 200}]\n",
      "------\n",
      "(6, lon    18.914039\n",
      "lat     1.804314\n",
      "Name: 6, dtype: float64)\n",
      "[{'coord': {'lon': -2.13, 'lat': 11.45}, 'weather': [{'id': 800, 'main': 'Clear', 'description': 'clear sky', 'icon': '01n'}], 'base': 'stations', 'main': {'temp': 85.22, 'pressure': 989.78, 'humidity': 51, 'temp_min': 85.22, 'temp_max': 85.22, 'sea_level': 1023.76, 'grnd_level': 989.78}, 'wind': {'speed': 10, 'deg': 211}, 'clouds': {'all': 0}, 'dt': 1520981096, 'sys': {'message': 0.0035, 'country': 'BF', 'sunrise': 1520921787, 'sunset': 1520965148}, 'id': 2355474, 'name': 'Lon', 'cod': 200}, {'coord': {'lon': 74.51, 'lat': 16.66}, 'weather': [{'id': 801, 'main': 'Clouds', 'description': 'few clouds', 'icon': '02n'}], 'base': 'stations', 'main': {'temp': 75.5, 'pressure': 956.87, 'humidity': 43, 'temp_min': 75.5, 'temp_max': 75.5, 'sea_level': 1022.99, 'grnd_level': 956.87}, 'wind': {'speed': 8.77, 'deg': 155.5}, 'clouds': {'all': 24}, 'dt': 1520981096, 'sys': {'message': 0.0031, 'country': 'IN', 'sunrise': 1520903457, 'sunset': 1520946702}, 'id': 1269834, 'name': 'Lat', 'cod': 200}]\n",
      "------\n",
      "(7, lon    91.388204\n",
      "lat    81.469991\n",
      "Name: 7, dtype: float64)\n",
      "[{'coord': {'lon': -2.13, 'lat': 11.45}, 'weather': [{'id': 800, 'main': 'Clear', 'description': 'clear sky', 'icon': '01n'}], 'base': 'stations', 'main': {'temp': 85.22, 'pressure': 989.78, 'humidity': 51, 'temp_min': 85.22, 'temp_max': 85.22, 'sea_level': 1023.76, 'grnd_level': 989.78}, 'wind': {'speed': 10, 'deg': 211}, 'clouds': {'all': 0}, 'dt': 1520981096, 'sys': {'message': 0.0035, 'country': 'BF', 'sunrise': 1520921787, 'sunset': 1520965148}, 'id': 2355474, 'name': 'Lon', 'cod': 200}, {'coord': {'lon': 74.51, 'lat': 16.66}, 'weather': [{'id': 801, 'main': 'Clouds', 'description': 'few clouds', 'icon': '02n'}], 'base': 'stations', 'main': {'temp': 75.5, 'pressure': 956.87, 'humidity': 43, 'temp_min': 75.5, 'temp_max': 75.5, 'sea_level': 1022.99, 'grnd_level': 956.87}, 'wind': {'speed': 8.77, 'deg': 155.5}, 'clouds': {'all': 24}, 'dt': 1520981096, 'sys': {'message': 0.0031, 'country': 'IN', 'sunrise': 1520903457, 'sunset': 1520946702}, 'id': 1269834, 'name': 'Lat', 'cod': 200}]\n",
      "------\n"
     ]
    },
    {
     "name": "stdout",
     "output_type": "stream",
     "text": [
      "(8, lon   -112.141622\n",
      "lat    -78.835434\n",
      "Name: 8, dtype: float64)\n",
      "[{'coord': {'lon': -2.13, 'lat': 11.45}, 'weather': [{'id': 800, 'main': 'Clear', 'description': 'clear sky', 'icon': '01n'}], 'base': 'stations', 'main': {'temp': 85.22, 'pressure': 989.78, 'humidity': 51, 'temp_min': 85.22, 'temp_max': 85.22, 'sea_level': 1023.76, 'grnd_level': 989.78}, 'wind': {'speed': 10, 'deg': 211}, 'clouds': {'all': 0}, 'dt': 1520981096, 'sys': {'message': 0.0035, 'country': 'BF', 'sunrise': 1520921787, 'sunset': 1520965148}, 'id': 2355474, 'name': 'Lon', 'cod': 200}, {'coord': {'lon': 74.51, 'lat': 16.66}, 'weather': [{'id': 801, 'main': 'Clouds', 'description': 'few clouds', 'icon': '02n'}], 'base': 'stations', 'main': {'temp': 75.5, 'pressure': 956.87, 'humidity': 43, 'temp_min': 75.5, 'temp_max': 75.5, 'sea_level': 1022.99, 'grnd_level': 956.87}, 'wind': {'speed': 8.77, 'deg': 155.5}, 'clouds': {'all': 24}, 'dt': 1520981096, 'sys': {'message': 0.0031, 'country': 'IN', 'sunrise': 1520903457, 'sunset': 1520946702}, 'id': 1269834, 'name': 'Lat', 'cod': 200}]\n",
      "------\n",
      "(9, lon    74.205922\n",
      "lat   -13.722600\n",
      "Name: 9, dtype: float64)\n",
      "[{'coord': {'lon': -2.13, 'lat': 11.45}, 'weather': [{'id': 800, 'main': 'Clear', 'description': 'clear sky', 'icon': '01n'}], 'base': 'stations', 'main': {'temp': 85.22, 'pressure': 989.78, 'humidity': 51, 'temp_min': 85.22, 'temp_max': 85.22, 'sea_level': 1023.76, 'grnd_level': 989.78}, 'wind': {'speed': 10, 'deg': 211}, 'clouds': {'all': 0}, 'dt': 1520981096, 'sys': {'message': 0.0035, 'country': 'BF', 'sunrise': 1520921787, 'sunset': 1520965148}, 'id': 2355474, 'name': 'Lon', 'cod': 200}, {'coord': {'lon': 74.51, 'lat': 16.66}, 'weather': [{'id': 801, 'main': 'Clouds', 'description': 'few clouds', 'icon': '02n'}], 'base': 'stations', 'main': {'temp': 75.5, 'pressure': 956.87, 'humidity': 43, 'temp_min': 75.5, 'temp_max': 75.5, 'sea_level': 1022.99, 'grnd_level': 956.87}, 'wind': {'speed': 8.77, 'deg': 155.5}, 'clouds': {'all': 24}, 'dt': 1520981096, 'sys': {'message': 0.0031, 'country': 'IN', 'sunrise': 1520903457, 'sunset': 1520946702}, 'id': 1269834, 'name': 'Lat', 'cod': 200}]\n",
      "------\n"
     ]
    }
   ],
   "source": [
    "for city in cities_coordinates.iterrows():\n",
    "    weather_data = [ow.get_current(city, **settings) for city in cities_coordinates]\n",
    "    print( (city))\n",
    "    print(weather_data)\n",
    "    print(\"------\")\n",
    "    "
   ]
  },
  {
   "cell_type": "code",
   "execution_count": 16,
   "metadata": {},
   "outputs": [
    {
     "name": "stdout",
     "output_type": "stream",
     "text": [
      "(0, lon    72.659736\n",
      "lat    50.687957\n",
      "Name: 0, dtype: float64)\n",
      "Now retrieving city # 0\n",
      "http://api.openweathermap.org/data/2.5/weather?lat=%7Blat%7D&lon=%7Blon%7D&0%20%20%20%20%2072.659736%0A1%20%20%20%20-27.434732%0A2%20%20%20%20%2019.543571%0A3%20%20%20-114.031409%0A4%20%20%20%20-39.086155%0A5%20%20%20%20%2088.928429%0A6%20%20%20%20%2018.914039%0A7%20%20%20%20%2091.388204%0A8%20%20%20-112.141622%0A9%20%20%20%20%2074.205922%0AName:%20lon,%20dtype:%20float64,%200%20%20%20%2050.687957%0A1%20%20%20-77.174124%0A2%20%20%20-62.340008%0A3%20%20%20-15.486100%0A4%20%20%20%2059.592176%0A5%20%20%20-59.661456%0A6%20%20%20%20%201.804314%0A7%20%20%20%2081.469991%0A8%20%20%20-78.835434%0A9%20%20%20-13.722600%0AName:%20lat,%20dtype:%20float64\n",
      "(1, lon   -27.434732\n",
      "lat   -77.174124\n",
      "Name: 1, dtype: float64)\n",
      "Now retrieving city # 2\n",
      "http://api.openweathermap.org/data/2.5/weather?lat=%7Blat%7D&lon=%7Blon%7D&0%20%20%20%20%2072.659736%0A1%20%20%20%20-27.434732%0A2%20%20%20%20%2019.543571%0A3%20%20%20-114.031409%0A4%20%20%20%20-39.086155%0A5%20%20%20%20%2088.928429%0A6%20%20%20%20%2018.914039%0A7%20%20%20%20%2091.388204%0A8%20%20%20-112.141622%0A9%20%20%20%20%2074.205922%0AName:%20lon,%20dtype:%20float64,%200%20%20%20%2050.687957%0A1%20%20%20-77.174124%0A2%20%20%20-62.340008%0A3%20%20%20-15.486100%0A4%20%20%20%2059.592176%0A5%20%20%20-59.661456%0A6%20%20%20%20%201.804314%0A7%20%20%20%2081.469991%0A8%20%20%20-78.835434%0A9%20%20%20-13.722600%0AName:%20lat,%20dtype:%20float64\n",
      "(2, lon    19.543571\n",
      "lat   -62.340008\n",
      "Name: 2, dtype: float64)\n",
      "Now retrieving city # 4\n",
      "http://api.openweathermap.org/data/2.5/weather?lat=%7Blat%7D&lon=%7Blon%7D&0%20%20%20%20%2072.659736%0A1%20%20%20%20-27.434732%0A2%20%20%20%20%2019.543571%0A3%20%20%20-114.031409%0A4%20%20%20%20-39.086155%0A5%20%20%20%20%2088.928429%0A6%20%20%20%20%2018.914039%0A7%20%20%20%20%2091.388204%0A8%20%20%20-112.141622%0A9%20%20%20%20%2074.205922%0AName:%20lon,%20dtype:%20float64,%200%20%20%20%2050.687957%0A1%20%20%20-77.174124%0A2%20%20%20-62.340008%0A3%20%20%20-15.486100%0A4%20%20%20%2059.592176%0A5%20%20%20-59.661456%0A6%20%20%20%20%201.804314%0A7%20%20%20%2081.469991%0A8%20%20%20-78.835434%0A9%20%20%20-13.722600%0AName:%20lat,%20dtype:%20float64\n",
      "(3, lon   -114.031409\n",
      "lat    -15.486100\n",
      "Name: 3, dtype: float64)\n",
      "Now retrieving city # 6\n",
      "http://api.openweathermap.org/data/2.5/weather?lat=%7Blat%7D&lon=%7Blon%7D&0%20%20%20%20%2072.659736%0A1%20%20%20%20-27.434732%0A2%20%20%20%20%2019.543571%0A3%20%20%20-114.031409%0A4%20%20%20%20-39.086155%0A5%20%20%20%20%2088.928429%0A6%20%20%20%20%2018.914039%0A7%20%20%20%20%2091.388204%0A8%20%20%20-112.141622%0A9%20%20%20%20%2074.205922%0AName:%20lon,%20dtype:%20float64,%200%20%20%20%2050.687957%0A1%20%20%20-77.174124%0A2%20%20%20-62.340008%0A3%20%20%20-15.486100%0A4%20%20%20%2059.592176%0A5%20%20%20-59.661456%0A6%20%20%20%20%201.804314%0A7%20%20%20%2081.469991%0A8%20%20%20-78.835434%0A9%20%20%20-13.722600%0AName:%20lat,%20dtype:%20float64\n",
      "(4, lon   -39.086155\n",
      "lat    59.592176\n",
      "Name: 4, dtype: float64)\n",
      "Now retrieving city # 8\n",
      "http://api.openweathermap.org/data/2.5/weather?lat=%7Blat%7D&lon=%7Blon%7D&0%20%20%20%20%2072.659736%0A1%20%20%20%20-27.434732%0A2%20%20%20%20%2019.543571%0A3%20%20%20-114.031409%0A4%20%20%20%20-39.086155%0A5%20%20%20%20%2088.928429%0A6%20%20%20%20%2018.914039%0A7%20%20%20%20%2091.388204%0A8%20%20%20-112.141622%0A9%20%20%20%20%2074.205922%0AName:%20lon,%20dtype:%20float64,%200%20%20%20%2050.687957%0A1%20%20%20-77.174124%0A2%20%20%20-62.340008%0A3%20%20%20-15.486100%0A4%20%20%20%2059.592176%0A5%20%20%20-59.661456%0A6%20%20%20%20%201.804314%0A7%20%20%20%2081.469991%0A8%20%20%20-78.835434%0A9%20%20%20-13.722600%0AName:%20lat,%20dtype:%20float64\n",
      "(5, lon    88.928429\n",
      "lat   -59.661456\n",
      "Name: 5, dtype: float64)\n",
      "Now retrieving city # 10\n",
      "http://api.openweathermap.org/data/2.5/weather?lat=%7Blat%7D&lon=%7Blon%7D&0%20%20%20%20%2072.659736%0A1%20%20%20%20-27.434732%0A2%20%20%20%20%2019.543571%0A3%20%20%20-114.031409%0A4%20%20%20%20-39.086155%0A5%20%20%20%20%2088.928429%0A6%20%20%20%20%2018.914039%0A7%20%20%20%20%2091.388204%0A8%20%20%20-112.141622%0A9%20%20%20%20%2074.205922%0AName:%20lon,%20dtype:%20float64,%200%20%20%20%2050.687957%0A1%20%20%20-77.174124%0A2%20%20%20-62.340008%0A3%20%20%20-15.486100%0A4%20%20%20%2059.592176%0A5%20%20%20-59.661456%0A6%20%20%20%20%201.804314%0A7%20%20%20%2081.469991%0A8%20%20%20-78.835434%0A9%20%20%20-13.722600%0AName:%20lat,%20dtype:%20float64\n",
      "(6, lon    18.914039\n",
      "lat     1.804314\n",
      "Name: 6, dtype: float64)\n",
      "Now retrieving city # 12\n",
      "http://api.openweathermap.org/data/2.5/weather?lat=%7Blat%7D&lon=%7Blon%7D&0%20%20%20%20%2072.659736%0A1%20%20%20%20-27.434732%0A2%20%20%20%20%2019.543571%0A3%20%20%20-114.031409%0A4%20%20%20%20-39.086155%0A5%20%20%20%20%2088.928429%0A6%20%20%20%20%2018.914039%0A7%20%20%20%20%2091.388204%0A8%20%20%20-112.141622%0A9%20%20%20%20%2074.205922%0AName:%20lon,%20dtype:%20float64,%200%20%20%20%2050.687957%0A1%20%20%20-77.174124%0A2%20%20%20-62.340008%0A3%20%20%20-15.486100%0A4%20%20%20%2059.592176%0A5%20%20%20-59.661456%0A6%20%20%20%20%201.804314%0A7%20%20%20%2081.469991%0A8%20%20%20-78.835434%0A9%20%20%20-13.722600%0AName:%20lat,%20dtype:%20float64\n",
      "(7, lon    91.388204\n",
      "lat    81.469991\n",
      "Name: 7, dtype: float64)\n",
      "Now retrieving city # 14\n",
      "http://api.openweathermap.org/data/2.5/weather?lat=%7Blat%7D&lon=%7Blon%7D&0%20%20%20%20%2072.659736%0A1%20%20%20%20-27.434732%0A2%20%20%20%20%2019.543571%0A3%20%20%20-114.031409%0A4%20%20%20%20-39.086155%0A5%20%20%20%20%2088.928429%0A6%20%20%20%20%2018.914039%0A7%20%20%20%20%2091.388204%0A8%20%20%20-112.141622%0A9%20%20%20%20%2074.205922%0AName:%20lon,%20dtype:%20float64,%200%20%20%20%2050.687957%0A1%20%20%20-77.174124%0A2%20%20%20-62.340008%0A3%20%20%20-15.486100%0A4%20%20%20%2059.592176%0A5%20%20%20-59.661456%0A6%20%20%20%20%201.804314%0A7%20%20%20%2081.469991%0A8%20%20%20-78.835434%0A9%20%20%20-13.722600%0AName:%20lat,%20dtype:%20float64\n",
      "(8, lon   -112.141622\n",
      "lat    -78.835434\n",
      "Name: 8, dtype: float64)\n",
      "Now retrieving city # 16\n",
      "http://api.openweathermap.org/data/2.5/weather?lat=%7Blat%7D&lon=%7Blon%7D&0%20%20%20%20%2072.659736%0A1%20%20%20%20-27.434732%0A2%20%20%20%20%2019.543571%0A3%20%20%20-114.031409%0A4%20%20%20%20-39.086155%0A5%20%20%20%20%2088.928429%0A6%20%20%20%20%2018.914039%0A7%20%20%20%20%2091.388204%0A8%20%20%20-112.141622%0A9%20%20%20%20%2074.205922%0AName:%20lon,%20dtype:%20float64,%200%20%20%20%2050.687957%0A1%20%20%20-77.174124%0A2%20%20%20-62.340008%0A3%20%20%20-15.486100%0A4%20%20%20%2059.592176%0A5%20%20%20-59.661456%0A6%20%20%20%20%201.804314%0A7%20%20%20%2081.469991%0A8%20%20%20-78.835434%0A9%20%20%20-13.722600%0AName:%20lat,%20dtype:%20float64\n",
      "(9, lon    74.205922\n",
      "lat   -13.722600\n",
      "Name: 9, dtype: float64)\n",
      "Now retrieving city # 18\n",
      "http://api.openweathermap.org/data/2.5/weather?lat=%7Blat%7D&lon=%7Blon%7D&0%20%20%20%20%2072.659736%0A1%20%20%20%20-27.434732%0A2%20%20%20%20%2019.543571%0A3%20%20%20-114.031409%0A4%20%20%20%20-39.086155%0A5%20%20%20%20%2088.928429%0A6%20%20%20%20%2018.914039%0A7%20%20%20%20%2091.388204%0A8%20%20%20-112.141622%0A9%20%20%20%20%2074.205922%0AName:%20lon,%20dtype:%20float64,%200%20%20%20%2050.687957%0A1%20%20%20-77.174124%0A2%20%20%20-62.340008%0A3%20%20%20-15.486100%0A4%20%20%20%2059.592176%0A5%20%20%20-59.661456%0A6%20%20%20%20%201.804314%0A7%20%20%20%2081.469991%0A8%20%20%20-78.835434%0A9%20%20%20-13.722600%0AName:%20lat,%20dtype:%20float64\n"
     ]
    }
   ],
   "source": [
    "# set up params\n",
    "params = {\n",
    "        \"lat\": cities_coordinates[\"lat\"],\n",
    "        \"lon\": cities_coordinates[\"lon\"],\n",
    "        \"units\": \"imperial\",\n",
    "        \"appid\": api_key\n",
    "        }\n",
    "\n",
    "\n",
    "# Counter\n",
    "row_count = 0\n",
    "for city in cities_coordinates.iterrows():\n",
    "    lat= cities_coordinates[\"lat\"]\n",
    "    lon = cities_coordinates[\"lon\"]\n",
    "    print(city)\n",
    "    \n",
    "    params = f\"{lon}, {lat}\"\n",
    "    base_url = \"http://api.openweathermap.org/data/2.5/weather?lat={lat}&lon={lon}\"\n",
    "    #base_url = f\"http://api.openweathermap.org/data/2.5/weather?lat={lat}&lon={lon}\"\n",
    "   \n",
    "    print(\"Now retrieving city # \" + str(row_count))\n",
    "    row_count += 1\n",
    "    #print(\"Now retrieving city #%s: %s\" %\n",
    "        #(row_count, cities_coordinates.loc[index]['name']))\n",
    "    row_count += 1\n",
    "    cor_location = requests.get(base_url, params=params)\n",
    "    print(cor_location.url)\n",
    "    cor_location= cor_location.json()\n",
    "    \n",
    "    \n",
    "    "
   ]
  },
  {
   "cell_type": "code",
   "execution_count": 17,
   "metadata": {
    "collapsed": true
   },
   "outputs": [],
   "source": [
    "summary= [\"name\", \"sys.id\", \"main.temp\", \"humidity.unit\", \"clouds.all\", \"wind.speed\"]\n"
   ]
  },
  {
   "cell_type": "code",
   "execution_count": 19,
   "metadata": {
    "scrolled": true
   },
   "outputs": [],
   "source": [
    "#data = [response(*summary) for response in cor_location]"
   ]
  },
  {
   "cell_type": "code",
   "execution_count": null,
   "metadata": {},
   "outputs": [],
   "source": [
    "weather_data = pd.DataFrame(data, index=cities)\n",
    "weather_data"
   ]
  },
  {
   "cell_type": "code",
   "execution_count": null,
   "metadata": {},
   "outputs": [],
   "source": [
    "column_names = [\"City Name\", \"City ID\", \n",
    "                \"Temperature (F)\", \"Humidity (%)\", \"Cloudiness (%)\", \"Wind Speed (mph)\"]\n",
    "weather_data = pd.DataFrame(data, index=cities, columns=column_names)\n",
    "weather_data"
   ]
  },
  {
   "cell_type": "code",
   "execution_count": null,
   "metadata": {
    "collapsed": true
   },
   "outputs": [],
   "source": [
    "#MapWrap 10 Unsolved Example "
   ]
  },
  {
   "cell_type": "code",
   "execution_count": null,
   "metadata": {
    "collapsed": true
   },
   "outputs": [],
   "source": []
  }
 ],
 "metadata": {
  "kernelspec": {
   "display_name": "Python 3",
   "language": "python",
   "name": "python3"
  },
  "language_info": {
   "codemirror_mode": {
    "name": "ipython",
    "version": 3
   },
   "file_extension": ".py",
   "mimetype": "text/x-python",
   "name": "python",
   "nbconvert_exporter": "python",
   "pygments_lexer": "ipython3",
   "version": "3.6.3"
  }
 },
 "nbformat": 4,
 "nbformat_minor": 2
}
