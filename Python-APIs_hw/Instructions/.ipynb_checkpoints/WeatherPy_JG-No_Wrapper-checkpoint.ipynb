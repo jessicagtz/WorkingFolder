{
 "cells": [
  {
   "cell_type": "markdown",
   "metadata": {},
   "source": [
    "## Instructions \n",
    "## Create a Python script to visualize the weather of 500+ cities across the world of varying distance from the equator.\n",
    "# Your objective is to build a series of scatter plots to showcase the following relationships:\n",
    "\n",
    "#Temperature (F) vs. Latitude\n",
    "#Humidity (%) vs. Latitude\n",
    "#Cloudiness (%) vs. Latitude\n",
    "#Wind Speed (mph) vs. Latitude\n",
    "#Your final notebook must:\n",
    "\n",
    "#Randomly select at least 500 unique (non-repeat) cities based on latitude and longitude.\n",
    "#Perform a weather check on each of the cities using a series of successive API calls.\n",
    "#Include a print log of each city as it's being processed with the city number, city name, and requested URL.\n",
    "#Save both a CSV of all data retrieved and png images for each scatter plot."
   ]
  },
  {
   "cell_type": "code",
   "execution_count": 2,
   "metadata": {},
   "outputs": [],
   "source": [
    "#1 Generate Cities List\n",
    "#2 Perform API Calls\n",
    "#3 Display the City Data Frame\n",
    "\n",
    "#Banking Deserts example "
   ]
  },
  {
   "cell_type": "code",
   "execution_count": 3,
   "metadata": {},
   "outputs": [],
   "source": [
    "# Dependencies\n",
    "import json\n",
    "import requests\n",
    "from citipy import citipy\n",
    "from random import uniform\n",
    "import pandas as pd\n",
    "import matplotlib.pyplot as plt\n",
    "\n",
    "\n",
    "\n",
    "#Import api_key \n",
    "from config import api_key"
   ]
  },
  {
   "cell_type": "code",
   "execution_count": 4,
   "metadata": {},
   "outputs": [],
   "source": [
    "# Generate Cities List\n",
    "cities = []\n",
    "def newpoint():\n",
    "    return uniform(-180, 180), uniform(-90, 90)\n",
    "\n",
    "r_coordinates = (newpoint() for x in range(10))\n",
    "for coordinate_pair in r_coordinates:\n",
    "    #print (city)\n",
    "    cities.append(coordinate_pair)\n",
    "    "
   ]
  },
  {
   "cell_type": "code",
   "execution_count": 5,
   "metadata": {},
   "outputs": [
    {
     "data": {
      "text/plain": [
       "[(-24.04708772157511, 81.14778887971414),\n",
       " (-32.418753812851776, 34.23590784937352),\n",
       " (10.31359597917762, -16.94533132571273),\n",
       " (-116.17760889454652, 80.24237191074667),\n",
       " (-115.4704739359348, 71.2276736340869),\n",
       " (-78.17235640481611, -12.185559839480561),\n",
       " (153.6840791171303, 45.03575098901598),\n",
       " (18.503564960919334, 50.057830465582526),\n",
       " (125.66880953711677, -30.96293575504351),\n",
       " (171.97456970162392, 54.858642467155846)]"
      ]
     },
     "execution_count": 5,
     "metadata": {},
     "output_type": "execute_result"
    }
   ],
   "source": [
    "cities"
   ]
  },
  {
   "cell_type": "code",
   "execution_count": 6,
   "metadata": {},
   "outputs": [
    {
     "data": {
      "text/html": [
       "<div>\n",
       "<style scoped>\n",
       "    .dataframe tbody tr th:only-of-type {\n",
       "        vertical-align: middle;\n",
       "    }\n",
       "\n",
       "    .dataframe tbody tr th {\n",
       "        vertical-align: top;\n",
       "    }\n",
       "\n",
       "    .dataframe thead th {\n",
       "        text-align: right;\n",
       "    }\n",
       "</style>\n",
       "<table border=\"1\" class=\"dataframe\">\n",
       "  <thead>\n",
       "    <tr style=\"text-align: right;\">\n",
       "      <th></th>\n",
       "      <th>Lon</th>\n",
       "      <th>Lat</th>\n",
       "    </tr>\n",
       "  </thead>\n",
       "  <tbody>\n",
       "    <tr>\n",
       "      <th>0</th>\n",
       "      <td>-24.047088</td>\n",
       "      <td>81.147789</td>\n",
       "    </tr>\n",
       "    <tr>\n",
       "      <th>1</th>\n",
       "      <td>-32.418754</td>\n",
       "      <td>34.235908</td>\n",
       "    </tr>\n",
       "    <tr>\n",
       "      <th>2</th>\n",
       "      <td>10.313596</td>\n",
       "      <td>-16.945331</td>\n",
       "    </tr>\n",
       "    <tr>\n",
       "      <th>3</th>\n",
       "      <td>-116.177609</td>\n",
       "      <td>80.242372</td>\n",
       "    </tr>\n",
       "    <tr>\n",
       "      <th>4</th>\n",
       "      <td>-115.470474</td>\n",
       "      <td>71.227674</td>\n",
       "    </tr>\n",
       "    <tr>\n",
       "      <th>5</th>\n",
       "      <td>-78.172356</td>\n",
       "      <td>-12.185560</td>\n",
       "    </tr>\n",
       "    <tr>\n",
       "      <th>6</th>\n",
       "      <td>153.684079</td>\n",
       "      <td>45.035751</td>\n",
       "    </tr>\n",
       "    <tr>\n",
       "      <th>7</th>\n",
       "      <td>18.503565</td>\n",
       "      <td>50.057830</td>\n",
       "    </tr>\n",
       "    <tr>\n",
       "      <th>8</th>\n",
       "      <td>125.668810</td>\n",
       "      <td>-30.962936</td>\n",
       "    </tr>\n",
       "    <tr>\n",
       "      <th>9</th>\n",
       "      <td>171.974570</td>\n",
       "      <td>54.858642</td>\n",
       "    </tr>\n",
       "  </tbody>\n",
       "</table>\n",
       "</div>"
      ],
      "text/plain": [
       "          Lon        Lat\n",
       "0  -24.047088  81.147789\n",
       "1  -32.418754  34.235908\n",
       "2   10.313596 -16.945331\n",
       "3 -116.177609  80.242372\n",
       "4 -115.470474  71.227674\n",
       "5  -78.172356 -12.185560\n",
       "6  153.684079  45.035751\n",
       "7   18.503565  50.057830\n",
       "8  125.668810 -30.962936\n",
       "9  171.974570  54.858642"
      ]
     },
     "execution_count": 6,
     "metadata": {},
     "output_type": "execute_result"
    }
   ],
   "source": [
    "labels= [\"Lon\", \"Lat\"]\n",
    "cities_coordinates = pd.DataFrame(cities, columns=labels)\n",
    "cities_coordinates"
   ]
  },
  {
   "cell_type": "code",
   "execution_count": 7,
   "metadata": {},
   "outputs": [
    {
     "ename": "NameError",
     "evalue": "name 'lat' is not defined",
     "output_type": "error",
     "traceback": [
      "\u001b[1;31m---------------------------------------------------------------------------\u001b[0m",
      "\u001b[1;31mNameError\u001b[0m                                 Traceback (most recent call last)",
      "\u001b[1;32m<ipython-input-7-8d4f9fcae60f>\u001b[0m in \u001b[0;36m<module>\u001b[1;34m()\u001b[0m\n\u001b[0;32m      1\u001b[0m \u001b[1;31m#Specify the URL : Lat and Lon as parameters\u001b[0m\u001b[1;33m\u001b[0m\u001b[1;33m\u001b[0m\u001b[0m\n\u001b[1;32m----> 2\u001b[1;33m \u001b[0murl\u001b[0m \u001b[1;33m=\u001b[0m \u001b[1;34mf\"http://api.openweathermap.org/data/2.5/weather?lat={lat}&lon={lon}\"\u001b[0m\u001b[1;33m\u001b[0m\u001b[0m\n\u001b[0m\u001b[0;32m      3\u001b[0m \u001b[0munits\u001b[0m \u001b[1;33m=\u001b[0m \u001b[1;34m\"imperial\"\u001b[0m\u001b[1;33m\u001b[0m\u001b[0m\n\u001b[0;32m      4\u001b[0m \u001b[1;31m# build query URL\u001b[0m\u001b[1;33m\u001b[0m\u001b[1;33m\u001b[0m\u001b[0m\n\u001b[0;32m      5\u001b[0m \u001b[0mquery_url\u001b[0m \u001b[1;33m=\u001b[0m \u001b[1;34mf\"{url}&appid={api_key}&units={units}&q=\"\u001b[0m\u001b[1;33m\u001b[0m\u001b[0m\n",
      "\u001b[1;31mNameError\u001b[0m: name 'lat' is not defined"
     ]
    }
   ],
   "source": [
    "row_count = 0 \n",
    "\n",
    "for index, row in cities_coordinates.iterrows():\n",
    "    lat= row[\"Lat\"]\n",
    "    lon = row[\"Lon\"]\n",
    "    params['']"
   ]
  },
  {
   "cell_type": "code",
   "execution_count": 8,
   "metadata": {},
   "outputs": [
    {
     "ename": "NameError",
     "evalue": "name 'query_url' is not defined",
     "output_type": "error",
     "traceback": [
      "\u001b[1;31m---------------------------------------------------------------------------\u001b[0m",
      "\u001b[1;31mNameError\u001b[0m                                 Traceback (most recent call last)",
      "\u001b[1;32m<ipython-input-8-935af1664827>\u001b[0m in \u001b[0;36m<module>\u001b[1;34m()\u001b[0m\n\u001b[1;32m----> 1\u001b[1;33m \u001b[0mweather_response\u001b[0m \u001b[1;33m=\u001b[0m \u001b[0mrequests\u001b[0m\u001b[1;33m.\u001b[0m\u001b[0mget\u001b[0m\u001b[1;33m(\u001b[0m\u001b[0mquery_url\u001b[0m\u001b[1;33m)\u001b[0m\u001b[1;33m\u001b[0m\u001b[0m\n\u001b[0m\u001b[0;32m      2\u001b[0m \u001b[0mweather_json\u001b[0m \u001b[1;33m=\u001b[0m \u001b[0mweather_response\u001b[0m\u001b[1;33m.\u001b[0m\u001b[0mjson\u001b[0m\u001b[1;33m(\u001b[0m\u001b[1;33m)\u001b[0m\u001b[1;33m\u001b[0m\u001b[0m\n\u001b[0;32m      3\u001b[0m \u001b[0mweather_json\u001b[0m\u001b[1;33m\u001b[0m\u001b[0m\n",
      "\u001b[1;31mNameError\u001b[0m: name 'query_url' is not defined"
     ]
    }
   ],
   "source": [
    "#Specify the URL : Lat and Lon as parameters \n",
    "url = f\"http://api.openweathermap.org/data/2.5/weather?lat={lat}&lon={lon}\"\n",
    "units = \"imperial\"\n",
    "# build query URL\n",
    "query_url = f\"{url}&appid={api_key}&units={units}&q=\"\n",
    "#query_url\n",
    "\n",
    "\n",
    "weather_response = requests.get(query_url)\n",
    "weather_json = weather_response.json()\n",
    "weather_json"
   ]
  },
  {
   "cell_type": "markdown",
   "metadata": {},
   "source": [
    "# Error message above AND below : HTTP Error 401: 'Invalid API key\n",
    "\n",
    "# ...why? API key does work ...(used it to re-do class examples. Also generated a new key and that one does not work either....erroneous syntax? API key does work in my other Working file (\"Working-Wrapper\")\n",
    "\n",
    "\n",
    "# Error Below: \n",
    "\n",
    "# Does ow take coordinates in (x,y) format or do we have to write them as they are return in JSON  ie. \"coord.lat\", \"coord.lon\" ? \n",
    "\n",
    "\n",
    "\n",
    "## \"cities\" is in form (lon, lat) \n",
    "## \"cities_coordinates\" (DF) is in form column Lon, column Lat \n",
    "\n",
    "# Figure out how to input coordinates: 1) (lon, lat) aka \"cities\" OR 2) column Lon, column Lat aka \"cities_coordinates\""
   ]
  },
  {
   "cell_type": "code",
   "execution_count": 9,
   "metadata": {},
   "outputs": [
    {
     "ename": "NameError",
     "evalue": "name 'query_url' is not defined",
     "output_type": "error",
     "traceback": [
      "\u001b[1;31m---------------------------------------------------------------------------\u001b[0m",
      "\u001b[1;31mNameError\u001b[0m                                 Traceback (most recent call last)",
      "\u001b[1;32m<ipython-input-9-5c5243fe476e>\u001b[0m in \u001b[0;36m<module>\u001b[1;34m()\u001b[0m\n\u001b[0;32m     16\u001b[0m \u001b[1;31m#for loop for cities_coordinate = dataframe\u001b[0m\u001b[1;33m\u001b[0m\u001b[1;33m\u001b[0m\u001b[0m\n\u001b[0;32m     17\u001b[0m \u001b[1;32mfor\u001b[0m \u001b[0mcity\u001b[0m \u001b[1;32min\u001b[0m \u001b[0mcities_coordinates\u001b[0m\u001b[1;33m:\u001b[0m\u001b[1;33m\u001b[0m\u001b[0m\n\u001b[1;32m---> 18\u001b[1;33m     \u001b[0mresponse\u001b[0m \u001b[1;33m=\u001b[0m \u001b[0mrequests\u001b[0m\u001b[1;33m.\u001b[0m\u001b[0mget\u001b[0m\u001b[1;33m(\u001b[0m\u001b[0mquery_url\u001b[0m \u001b[1;33m+\u001b[0m \u001b[0mcity\u001b[0m\u001b[1;33m)\u001b[0m\u001b[1;33m.\u001b[0m\u001b[0mjson\u001b[0m\u001b[1;33m(\u001b[0m\u001b[1;33m)\u001b[0m\u001b[1;33m\u001b[0m\u001b[0m\n\u001b[0m\u001b[0;32m     19\u001b[0m     \u001b[0mprint\u001b[0m\u001b[1;33m(\u001b[0m\u001b[0mresponse\u001b[0m\u001b[1;33m)\u001b[0m\u001b[1;33m\u001b[0m\u001b[0m\n\u001b[0;32m     20\u001b[0m     \u001b[0mcity_name\u001b[0m\u001b[1;33m.\u001b[0m\u001b[0mappend\u001b[0m\u001b[1;33m(\u001b[0m\u001b[0mresponse\u001b[0m\u001b[1;33m[\u001b[0m\u001b[1;34m\"name\"\u001b[0m\u001b[1;33m]\u001b[0m\u001b[1;33m)\u001b[0m\u001b[1;33m\u001b[0m\u001b[0m\n",
      "\u001b[1;31mNameError\u001b[0m: name 'query_url' is not defined"
     ]
    }
   ],
   "source": [
    "#List for response results \n",
    "city_name = []\n",
    "city_id = []\n",
    "temperature= []\n",
    "humidity= []\n",
    "cloudiness= []\n",
    "wind_speed= []\n",
    "city_url = []\n",
    "\n",
    "# Loop through each city, Perform API Calls, Append desired results \n",
    "\n",
    "#for loop for cities = (long ,lat)\n",
    "# for city in cities:\n",
    "\n",
    "\n",
    "#for loop for cities_coordinate = dataframe\n",
    "for city in cities_coordinates:\n",
    "    response = requests.get(query_url + city).json()\n",
    "    print(response)\n",
    "    city_name.append(response[\"name\"])\n",
    "    city_id.append(response[\"sys.id\"])\n",
    "    temperature.append(response[\"main.temp\"])\n",
    "    humidity.append(response[\"humidity.unit\"])\n",
    "    cloudiness.append(response[\"clouds.all\"])\n",
    "    wind_speed.append[\"wind.speed\"]\n",
    "    \n",
    "    \n",
    "# [\"name\", \"sys.id\", \"main.temp\", \n",
    "# AN#  \"humidity.unit\", \"clouds.all\", \"wind.speed\"]"
   ]
  },
  {
   "cell_type": "markdown",
   "metadata": {},
   "source": [
    "# Works!\n"
   ]
  },
  {
   "cell_type": "code",
   "execution_count": 18,
   "metadata": {},
   "outputs": [
    {
     "name": "stdout",
     "output_type": "stream",
     "text": [
      "Now retrieving city # 0\n",
      "http://api.openweathermap.org/data/2.5/weather?lat=81.14778887971414&lon=-24.04708772157511&appid=3c4a5bf4e16f21b1cccc13f0224ac2da\n",
      "Now retrieving city # 1\n",
      "http://api.openweathermap.org/data/2.5/weather?lat=34.23590784937352&lon=-32.418753812851776&appid=3c4a5bf4e16f21b1cccc13f0224ac2da\n",
      "Now retrieving city # 2\n",
      "http://api.openweathermap.org/data/2.5/weather?lat=-16.94533132571273&lon=10.31359597917762&appid=3c4a5bf4e16f21b1cccc13f0224ac2da\n",
      "Now retrieving city # 3\n",
      "http://api.openweathermap.org/data/2.5/weather?lat=80.24237191074667&lon=-116.17760889454652&appid=3c4a5bf4e16f21b1cccc13f0224ac2da\n",
      "Now retrieving city # 4\n",
      "http://api.openweathermap.org/data/2.5/weather?lat=71.2276736340869&lon=-115.4704739359348&appid=3c4a5bf4e16f21b1cccc13f0224ac2da\n",
      "Now retrieving city # 5\n",
      "http://api.openweathermap.org/data/2.5/weather?lat=-12.185559839480561&lon=-78.17235640481611&appid=3c4a5bf4e16f21b1cccc13f0224ac2da\n",
      "Now retrieving city # 6\n",
      "http://api.openweathermap.org/data/2.5/weather?lat=45.03575098901598&lon=153.6840791171303&appid=3c4a5bf4e16f21b1cccc13f0224ac2da\n",
      "Now retrieving city # 7\n",
      "http://api.openweathermap.org/data/2.5/weather?lat=50.057830465582526&lon=18.503564960919334&appid=3c4a5bf4e16f21b1cccc13f0224ac2da\n",
      "Now retrieving city # 8\n",
      "http://api.openweathermap.org/data/2.5/weather?lat=-30.96293575504351&lon=125.66880953711677&appid=3c4a5bf4e16f21b1cccc13f0224ac2da\n",
      "Now retrieving city # 9\n",
      "http://api.openweathermap.org/data/2.5/weather?lat=54.858642467155846&lon=171.97456970162392&appid=3c4a5bf4e16f21b1cccc13f0224ac2da\n"
     ]
    }
   ],
   "source": [
    "# set up params\n",
    "params = {\n",
    "    \"appid\": api_key\n",
    "}\n",
    "\n",
    "units = \"imperial\"\n",
    "\n",
    "# Counter\n",
    "row_count = 0\n",
    "for index, row in cities_coordinates.iterrows():\n",
    "    #params['Lon'] = row['Lat']\n",
    "    lat= row[\"Lat\"]\n",
    "    lon = row[\"Lon\"]\n",
    "    params = f\"{lon}, {lat}\"\n",
    "    #base_url = \"http://api.openweathermap.org/data/2.5/weather?lat={lat}&lon={lon}\"\n",
    "    base_url = f\"http://api.openweathermap.org/data/2.5/weather?lat={lat}&lon={lon}\"\n",
    "    #except, error with printing URL\n",
    "    print(\"Now retrieving city # \" + str(row_count))\n",
    "    row_count += 1\n",
    "    #print(\"Now retrieving city #%s: %s\" %\n",
    "        #(row_count, cities_coordinates.loc[index]['name']))\n",
    "    #row_count += 1\n",
    "    cor_location = requests.get(base_url, params=params)\n",
    "    print(cor_location.url)\n",
    "    cor_location= cor_location.json()\n",
    "    \n",
    "    \n",
    "    "
   ]
  },
  {
   "cell_type": "code",
   "execution_count": null,
   "metadata": {},
   "outputs": [],
   "source": []
  },
  {
   "cell_type": "code",
   "execution_count": null,
   "metadata": {},
   "outputs": [],
   "source": []
  },
  {
   "cell_type": "code",
   "execution_count": null,
   "metadata": {},
   "outputs": [],
   "source": []
  },
  {
   "cell_type": "code",
   "execution_count": null,
   "metadata": {},
   "outputs": [],
   "source": []
  },
  {
   "cell_type": "code",
   "execution_count": null,
   "metadata": {},
   "outputs": [],
   "source": []
  },
  {
   "cell_type": "code",
   "execution_count": null,
   "metadata": {},
   "outputs": [],
   "source": []
  },
  {
   "cell_type": "code",
   "execution_count": null,
   "metadata": {},
   "outputs": [],
   "source": []
  }
 ],
 "metadata": {
  "kernelspec": {
   "display_name": "Python 3",
   "language": "python",
   "name": "python3"
  },
  "language_info": {
   "codemirror_mode": {
    "name": "ipython",
    "version": 3
   },
   "file_extension": ".py",
   "mimetype": "text/x-python",
   "name": "python",
   "nbconvert_exporter": "python",
   "pygments_lexer": "ipython3",
   "version": "3.6.4"
  }
 },
 "nbformat": 4,
 "nbformat_minor": 2
}
