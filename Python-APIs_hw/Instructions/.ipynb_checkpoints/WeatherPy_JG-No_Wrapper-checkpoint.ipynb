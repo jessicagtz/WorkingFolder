{
 "cells": [
  {
   "cell_type": "markdown",
   "metadata": {},
   "source": [
    "## Instructions \n",
    "## Create a Python script to visualize the weather of 500+ cities across the world of varying distance from the equator.\n",
    "# Your objective is to build a series of scatter plots to showcase the following relationships:\n",
    "\n",
    "#Temperature (F) vs. Latitude\n",
    "#Humidity (%) vs. Latitude\n",
    "#Cloudiness (%) vs. Latitude\n",
    "#Wind Speed (mph) vs. Latitude\n",
    "#Your final notebook must:\n",
    "\n",
    "#Randomly select at least 500 unique (non-repeat) cities based on latitude and longitude.\n",
    "#Perform a weather check on each of the cities using a series of successive API calls.\n",
    "#Include a print log of each city as it's being processed with the city number, city name, and requested URL.\n",
    "#Save both a CSV of all data retrieved and png images for each scatter plot."
   ]
  },
  {
   "cell_type": "code",
   "execution_count": null,
   "metadata": {},
   "outputs": [],
   "source": [
    "#1 Generate Cities List\n",
    "#2 Perform API Calls\n",
    "#3 Display the City Data Frame\n",
    "\n",
    "#Banking Deserts example "
   ]
  },
  {
   "cell_type": "code",
   "execution_count": 2,
   "metadata": {},
   "outputs": [],
   "source": [
    "# Dependencies\n",
    "import json\n",
    "import requests\n",
    "from citipy import citipy\n",
    "from random import uniform\n",
    "import pandas as pd\n",
    "import matplotlib.pyplot as plt\n",
    "\n",
    "\n",
    "\n",
    "#Import api_key \n",
    "from config import api_key"
   ]
  },
  {
   "cell_type": "code",
   "execution_count": 3,
   "metadata": {},
   "outputs": [],
   "source": [
    "# Generate Cities List\n",
    "cities = []\n",
    "def newpoint():\n",
    "    return uniform(-180, 180), uniform(-90, 90)\n",
    "\n",
    "r_coordinates = (newpoint() for x in range(10))\n",
    "for coordinate_pair in r_coordinates:\n",
    "    #print (city)\n",
    "    cities.append(coordinate_pair)\n",
    "    "
   ]
  },
  {
   "cell_type": "code",
   "execution_count": 4,
   "metadata": {},
   "outputs": [
    {
     "data": {
      "text/plain": [
       "[(-132.07149760283338, -54.56446126526445),\n",
       " (108.94917354810678, 85.70590992208255),\n",
       " (50.52244120063855, -7.6665839830436795),\n",
       " (39.906301872253636, 74.16326772473204),\n",
       " (-138.1195354836376, -40.26840891884196),\n",
       " (18.543846369751293, 65.82868422788363),\n",
       " (42.358868086321024, -6.014925450162835),\n",
       " (-120.94953097519132, -83.15965943255087),\n",
       " (165.76750710198655, -67.40412223967932),\n",
       " (179.59774813386974, -27.678247313324427)]"
      ]
     },
     "execution_count": 4,
     "metadata": {},
     "output_type": "execute_result"
    }
   ],
   "source": [
    "cities"
   ]
  },
  {
   "cell_type": "code",
   "execution_count": 5,
   "metadata": {},
   "outputs": [
    {
     "data": {
      "text/html": [
       "<div>\n",
       "<style scoped>\n",
       "    .dataframe tbody tr th:only-of-type {\n",
       "        vertical-align: middle;\n",
       "    }\n",
       "\n",
       "    .dataframe tbody tr th {\n",
       "        vertical-align: top;\n",
       "    }\n",
       "\n",
       "    .dataframe thead th {\n",
       "        text-align: right;\n",
       "    }\n",
       "</style>\n",
       "<table border=\"1\" class=\"dataframe\">\n",
       "  <thead>\n",
       "    <tr style=\"text-align: right;\">\n",
       "      <th></th>\n",
       "      <th>Lon</th>\n",
       "      <th>Lat</th>\n",
       "    </tr>\n",
       "  </thead>\n",
       "  <tbody>\n",
       "    <tr>\n",
       "      <th>0</th>\n",
       "      <td>-132.071498</td>\n",
       "      <td>-54.564461</td>\n",
       "    </tr>\n",
       "    <tr>\n",
       "      <th>1</th>\n",
       "      <td>108.949174</td>\n",
       "      <td>85.705910</td>\n",
       "    </tr>\n",
       "    <tr>\n",
       "      <th>2</th>\n",
       "      <td>50.522441</td>\n",
       "      <td>-7.666584</td>\n",
       "    </tr>\n",
       "    <tr>\n",
       "      <th>3</th>\n",
       "      <td>39.906302</td>\n",
       "      <td>74.163268</td>\n",
       "    </tr>\n",
       "    <tr>\n",
       "      <th>4</th>\n",
       "      <td>-138.119535</td>\n",
       "      <td>-40.268409</td>\n",
       "    </tr>\n",
       "    <tr>\n",
       "      <th>5</th>\n",
       "      <td>18.543846</td>\n",
       "      <td>65.828684</td>\n",
       "    </tr>\n",
       "    <tr>\n",
       "      <th>6</th>\n",
       "      <td>42.358868</td>\n",
       "      <td>-6.014925</td>\n",
       "    </tr>\n",
       "    <tr>\n",
       "      <th>7</th>\n",
       "      <td>-120.949531</td>\n",
       "      <td>-83.159659</td>\n",
       "    </tr>\n",
       "    <tr>\n",
       "      <th>8</th>\n",
       "      <td>165.767507</td>\n",
       "      <td>-67.404122</td>\n",
       "    </tr>\n",
       "    <tr>\n",
       "      <th>9</th>\n",
       "      <td>179.597748</td>\n",
       "      <td>-27.678247</td>\n",
       "    </tr>\n",
       "  </tbody>\n",
       "</table>\n",
       "</div>"
      ],
      "text/plain": [
       "          Lon        Lat\n",
       "0 -132.071498 -54.564461\n",
       "1  108.949174  85.705910\n",
       "2   50.522441  -7.666584\n",
       "3   39.906302  74.163268\n",
       "4 -138.119535 -40.268409\n",
       "5   18.543846  65.828684\n",
       "6   42.358868  -6.014925\n",
       "7 -120.949531 -83.159659\n",
       "8  165.767507 -67.404122\n",
       "9  179.597748 -27.678247"
      ]
     },
     "execution_count": 5,
     "metadata": {},
     "output_type": "execute_result"
    }
   ],
   "source": [
    "labels= [\"Lon\", \"Lat\"]\n",
    "cities_coordinates = pd.DataFrame(cities, columns=labels)\n",
    "cities_coordinates"
   ]
  },
  {
   "cell_type": "code",
   "execution_count": 10,
   "metadata": {},
   "outputs": [
    {
     "data": {
      "text/plain": [
       "'http://api.openweathermap.org/data/2.5/weather?lat={lat}&lon={lon}appid=3c4a5bf4e16f21b1cccc13f0224ac2da&units=imperial&q='"
      ]
     },
     "execution_count": 10,
     "metadata": {},
     "output_type": "execute_result"
    }
   ],
   "source": [
    "#Specify the URL : Lat and Lon as parameters \n",
    "url = \"http://api.openweathermap.org/data/2.5/weather?lat={lat}&lon={lon}\"\n",
    "units = \"imperial\"\n",
    "# build query URL\n",
    "query_url = f\"{url}appid={api_key}&units={units}&q=\"\n",
    "query_url\n",
    "\n"
   ]
  },
  {
   "cell_type": "code",
   "execution_count": 20,
   "metadata": {},
   "outputs": [
    {
     "data": {
      "text/plain": [
       "{'cod': 401,\n",
       " 'message': 'Invalid API key. Please see http://openweathermap.org/faq#error401 for more info.'}"
      ]
     },
     "execution_count": 20,
     "metadata": {},
     "output_type": "execute_result"
    }
   ],
   "source": [
    "weather_response = requests.get(query_url)\n",
    "weather_json = weather_response.json()\n",
    "weather_json"
   ]
  },
  {
   "cell_type": "markdown",
   "metadata": {},
   "source": [
    "# Error message above AND below : HTTP Error 401: 'Invalid API key\n",
    "\n",
    "# ...why? API key does work ...(used it to re-do class examples. Also generated a new key and that one does not work either....erroneous syntax? API key does work in my other Working file (\"Working-Wrapper\")\n",
    "\n",
    "\n",
    "# Error Below: \n",
    "\n",
    "# Does ow take coordinates in (x,y) format or do we have to write them as they are return in JSON  ie. \"coord.lat\", \"coord.lon\" ? \n",
    "\n",
    "\n",
    "\n",
    "## \"cities\" is in form (lon, lat) \n",
    "## \"cities_coordinates\" (DF) is in form column Lon, column Lat \n",
    "\n",
    "# Figure out how to input coordinates: 1) (lon, lat) aka \"cities\" OR 2) column Lon, column Lat aka \"cities_coordinates\""
   ]
  },
  {
   "cell_type": "code",
   "execution_count": 18,
   "metadata": {},
   "outputs": [
    {
     "name": "stdout",
     "output_type": "stream",
     "text": [
      "{'cod': 401, 'message': 'Invalid API key. Please see http://openweathermap.org/faq#error401 for more info.'}\n"
     ]
    },
    {
     "ename": "KeyError",
     "evalue": "'name'",
     "output_type": "error",
     "traceback": [
      "\u001b[1;31m---------------------------------------------------------------------------\u001b[0m",
      "\u001b[1;31mKeyError\u001b[0m                                  Traceback (most recent call last)",
      "\u001b[1;32m<ipython-input-18-6a38e6a1bca9>\u001b[0m in \u001b[0;36m<module>\u001b[1;34m()\u001b[0m\n\u001b[0;32m     18\u001b[0m     \u001b[0mresponse\u001b[0m \u001b[1;33m=\u001b[0m \u001b[0mrequests\u001b[0m\u001b[1;33m.\u001b[0m\u001b[0mget\u001b[0m\u001b[1;33m(\u001b[0m\u001b[0mquery_url\u001b[0m \u001b[1;33m+\u001b[0m \u001b[0mcity\u001b[0m\u001b[1;33m)\u001b[0m\u001b[1;33m.\u001b[0m\u001b[0mjson\u001b[0m\u001b[1;33m(\u001b[0m\u001b[1;33m)\u001b[0m\u001b[1;33m\u001b[0m\u001b[0m\n\u001b[0;32m     19\u001b[0m     \u001b[0mprint\u001b[0m\u001b[1;33m(\u001b[0m\u001b[0mresponse\u001b[0m\u001b[1;33m)\u001b[0m\u001b[1;33m\u001b[0m\u001b[0m\n\u001b[1;32m---> 20\u001b[1;33m     \u001b[0mcity_name\u001b[0m\u001b[1;33m.\u001b[0m\u001b[0mappend\u001b[0m\u001b[1;33m(\u001b[0m\u001b[0mresponse\u001b[0m\u001b[1;33m[\u001b[0m\u001b[1;34m\"name\"\u001b[0m\u001b[1;33m]\u001b[0m\u001b[1;33m)\u001b[0m\u001b[1;33m\u001b[0m\u001b[0m\n\u001b[0m\u001b[0;32m     21\u001b[0m     \u001b[0mcity_id\u001b[0m\u001b[1;33m.\u001b[0m\u001b[0mappend\u001b[0m\u001b[1;33m(\u001b[0m\u001b[0mresponse\u001b[0m\u001b[1;33m[\u001b[0m\u001b[1;34m\"sys.id\"\u001b[0m\u001b[1;33m]\u001b[0m\u001b[1;33m)\u001b[0m\u001b[1;33m\u001b[0m\u001b[0m\n\u001b[0;32m     22\u001b[0m     \u001b[0mtemperature\u001b[0m\u001b[1;33m.\u001b[0m\u001b[0mappend\u001b[0m\u001b[1;33m(\u001b[0m\u001b[0mresponse\u001b[0m\u001b[1;33m[\u001b[0m\u001b[1;34m\"main.temp\"\u001b[0m\u001b[1;33m]\u001b[0m\u001b[1;33m)\u001b[0m\u001b[1;33m\u001b[0m\u001b[0m\n",
      "\u001b[1;31mKeyError\u001b[0m: 'name'"
     ]
    }
   ],
   "source": [
    "#List for response results \n",
    "city_name = []\n",
    "city_id = []\n",
    "temperature= []\n",
    "humidity= []\n",
    "cloudiness= []\n",
    "wind_speed= []\n",
    "city_url = []\n",
    "\n",
    "# Loop through each city, Perform API Calls, Append desired results \n",
    "\n",
    "#for loop for cities = (long ,lat)\n",
    "# for city in cities:\n",
    "\n",
    "\n",
    "#for loop for cities_coordinate = dataframe\n",
    "for city in cities_coordinates:\n",
    "    response = requests.get(query_url + city).json()\n",
    "    print(response)\n",
    "    city_name.append(response[\"name\"])\n",
    "    city_id.append(response[\"sys.id\"])\n",
    "    temperature.append(response[\"main.temp\"])\n",
    "    humidity.append(response[\"humidity.unit\"])\n",
    "    cloudiness.append(response[\"clouds.all\"])\n",
    "    wind_speed.append[\"wind.speed\"]\n",
    "    \n",
    "    \n",
    "# [\"name\", \"sys.id\", \"main.temp\", \n",
    "# AN#  \"humidity.unit\", \"clouds.all\", \"wind.speed\"]"
   ]
  },
  {
   "cell_type": "markdown",
   "metadata": {},
   "source": [
    "# Another Route \n",
    "# except error still present b/c need to print URL\n",
    "# Prints a URL but it's a 401 URL"
   ]
  },
  {
   "cell_type": "code",
   "execution_count": 21,
   "metadata": {},
   "outputs": [
    {
     "name": "stdout",
     "output_type": "stream",
     "text": [
      "Now retrieving city # 0\n",
      "http://api.openweathermap.org/data/2.5/weather?lat=%7Blat%7D&lon=%7Blon%7D&api_key=3c4a5bf4e16f21b1cccc13f0224ac2da&Lon=-54.56446126526445\n",
      "Now retrieving city # 1\n",
      "http://api.openweathermap.org/data/2.5/weather?lat=%7Blat%7D&lon=%7Blon%7D&api_key=3c4a5bf4e16f21b1cccc13f0224ac2da&Lon=85.70590992208255\n",
      "Now retrieving city # 2\n",
      "http://api.openweathermap.org/data/2.5/weather?lat=%7Blat%7D&lon=%7Blon%7D&api_key=3c4a5bf4e16f21b1cccc13f0224ac2da&Lon=-7.6665839830436795\n",
      "Now retrieving city # 3\n",
      "http://api.openweathermap.org/data/2.5/weather?lat=%7Blat%7D&lon=%7Blon%7D&api_key=3c4a5bf4e16f21b1cccc13f0224ac2da&Lon=74.16326772473204\n",
      "Now retrieving city # 4\n",
      "http://api.openweathermap.org/data/2.5/weather?lat=%7Blat%7D&lon=%7Blon%7D&api_key=3c4a5bf4e16f21b1cccc13f0224ac2da&Lon=-40.26840891884196\n",
      "Now retrieving city # 5\n",
      "http://api.openweathermap.org/data/2.5/weather?lat=%7Blat%7D&lon=%7Blon%7D&api_key=3c4a5bf4e16f21b1cccc13f0224ac2da&Lon=65.82868422788363\n",
      "Now retrieving city # 6\n",
      "http://api.openweathermap.org/data/2.5/weather?lat=%7Blat%7D&lon=%7Blon%7D&api_key=3c4a5bf4e16f21b1cccc13f0224ac2da&Lon=-6.014925450162835\n",
      "Now retrieving city # 7\n",
      "http://api.openweathermap.org/data/2.5/weather?lat=%7Blat%7D&lon=%7Blon%7D&api_key=3c4a5bf4e16f21b1cccc13f0224ac2da&Lon=-83.15965943255087\n",
      "Now retrieving city # 8\n",
      "http://api.openweathermap.org/data/2.5/weather?lat=%7Blat%7D&lon=%7Blon%7D&api_key=3c4a5bf4e16f21b1cccc13f0224ac2da&Lon=-67.40412223967932\n",
      "Now retrieving city # 9\n",
      "http://api.openweathermap.org/data/2.5/weather?lat=%7Blat%7D&lon=%7Blon%7D&api_key=3c4a5bf4e16f21b1cccc13f0224ac2da&Lon=-27.678247313324427\n"
     ]
    }
   ],
   "source": [
    "# set up params\n",
    "params = {\n",
    "    \"api_key\": api_key\n",
    "}\n",
    "\n",
    "units = \"imperial\"\n",
    "\n",
    "# Counter\n",
    "row_count = 0\n",
    "for index, row in cities_coordinates.iterrows():\n",
    "    params['Lon'] = row['Lat']\n",
    "    base_url = \"http://api.openweathermap.org/data/2.5/weather?lat={lat}&lon={lon}\"\n",
    "    #except, error with printing URL\n",
    "    print(\"Now retrieving city # \" + str(row_count))\n",
    "    row_count += 1\n",
    "    lat_location = requests.get(base_url, params=params)\n",
    "    print(lat_location.url)\n",
    "    \n",
    "    lat_location= lat_location.json()\n",
    "    "
   ]
  },
  {
   "cell_type": "code",
   "execution_count": null,
   "metadata": {},
   "outputs": [],
   "source": []
  },
  {
   "cell_type": "code",
   "execution_count": null,
   "metadata": {},
   "outputs": [],
   "source": []
  },
  {
   "cell_type": "code",
   "execution_count": null,
   "metadata": {},
   "outputs": [],
   "source": []
  },
  {
   "cell_type": "code",
   "execution_count": null,
   "metadata": {},
   "outputs": [],
   "source": []
  },
  {
   "cell_type": "code",
   "execution_count": null,
   "metadata": {},
   "outputs": [],
   "source": []
  },
  {
   "cell_type": "code",
   "execution_count": null,
   "metadata": {},
   "outputs": [],
   "source": []
  },
  {
   "cell_type": "code",
   "execution_count": null,
   "metadata": {},
   "outputs": [],
   "source": []
  }
 ],
 "metadata": {
  "kernelspec": {
   "display_name": "Python 3",
   "language": "python",
   "name": "python3"
  },
  "language_info": {
   "codemirror_mode": {
    "name": "ipython",
    "version": 3
   },
   "file_extension": ".py",
   "mimetype": "text/x-python",
   "name": "python",
   "nbconvert_exporter": "python",
   "pygments_lexer": "ipython3",
   "version": "3.6.4"
  }
 },
 "nbformat": 4,
 "nbformat_minor": 2
}
