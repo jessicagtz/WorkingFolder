{
 "cells": [
  {
   "cell_type": "markdown",
   "metadata": {},
   "source": [
    "## Instructions \n",
    "## Create a Python script to visualize the weather of 500+ cities across the world of varying distance from the equator.\n",
    "# Your objective is to build a series of scatter plots to showcase the following relationships:\n",
    "\n",
    "#Temperature (F) vs. Latitude\n",
    "#Humidity (%) vs. Latitude\n",
    "#Cloudiness (%) vs. Latitude\n",
    "#Wind Speed (mph) vs. Latitude\n",
    "#Your final notebook must:\n",
    "\n",
    "#Randomly select at least 500 unique (non-repeat) cities based on latitude and longitude.\n",
    "#Perform a weather check on each of the cities using a series of successive API calls.\n",
    "#Include a print log of each city as it's being processed with the city number, city name, and requested URL.\n",
    "#Save both a CSV of all data retrieved and png images for each scatter plot."
   ]
  },
  {
   "cell_type": "code",
   "execution_count": 17,
   "metadata": {
    "collapsed": true
   },
   "outputs": [],
   "source": [
    "#1 Generate Cities List\n",
    "#2 Perform API Calls\n",
    "#3 Display the City Data Frame\n",
    "\n",
    "#Banking Deserts example "
   ]
  },
  {
   "cell_type": "code",
   "execution_count": 18,
   "metadata": {
    "collapsed": true
   },
   "outputs": [],
   "source": [
    "# Dependencies\n",
    "import json\n",
    "import requests\n",
    "from citipy import citipy\n",
    "from random import uniform\n",
    "import pandas as pd\n",
    "import matplotlib.pyplot as plt\n",
    "\n",
    "\n",
    "\n",
    "#Import api_key \n",
    "from config import api_key"
   ]
  },
  {
   "cell_type": "code",
   "execution_count": 19,
   "metadata": {
    "collapsed": true
   },
   "outputs": [],
   "source": [
    "# Generate Cities List\n",
    "cities = []\n",
    "def newpoint():\n",
    "    return uniform(-180, 180), uniform(-90, 90)\n",
    "\n",
    "r_coordinates = (newpoint() for x in range(10))\n",
    "for coordinate_pair in r_coordinates:\n",
    "    #print (city)\n",
    "    cities.append(coordinate_pair)\n",
    "    \n",
    "\n",
    "#cities \n",
    "    "
   ]
  },
  {
   "cell_type": "code",
   "execution_count": 20,
   "metadata": {},
   "outputs": [
    {
     "data": {
      "text/html": [
       "<div>\n",
       "<style>\n",
       "    .dataframe thead tr:only-child th {\n",
       "        text-align: right;\n",
       "    }\n",
       "\n",
       "    .dataframe thead th {\n",
       "        text-align: left;\n",
       "    }\n",
       "\n",
       "    .dataframe tbody tr th {\n",
       "        vertical-align: top;\n",
       "    }\n",
       "</style>\n",
       "<table border=\"1\" class=\"dataframe\">\n",
       "  <thead>\n",
       "    <tr style=\"text-align: right;\">\n",
       "      <th></th>\n",
       "      <th>lon</th>\n",
       "      <th>lat</th>\n",
       "    </tr>\n",
       "  </thead>\n",
       "  <tbody>\n",
       "    <tr>\n",
       "      <th>0</th>\n",
       "      <td>-121.120773</td>\n",
       "      <td>32.933039</td>\n",
       "    </tr>\n",
       "    <tr>\n",
       "      <th>1</th>\n",
       "      <td>0.637183</td>\n",
       "      <td>17.916502</td>\n",
       "    </tr>\n",
       "    <tr>\n",
       "      <th>2</th>\n",
       "      <td>-56.965019</td>\n",
       "      <td>39.461941</td>\n",
       "    </tr>\n",
       "    <tr>\n",
       "      <th>3</th>\n",
       "      <td>-161.598551</td>\n",
       "      <td>-78.829743</td>\n",
       "    </tr>\n",
       "    <tr>\n",
       "      <th>4</th>\n",
       "      <td>-179.852468</td>\n",
       "      <td>-60.329801</td>\n",
       "    </tr>\n",
       "    <tr>\n",
       "      <th>5</th>\n",
       "      <td>72.045760</td>\n",
       "      <td>64.081110</td>\n",
       "    </tr>\n",
       "    <tr>\n",
       "      <th>6</th>\n",
       "      <td>-112.197381</td>\n",
       "      <td>12.840255</td>\n",
       "    </tr>\n",
       "    <tr>\n",
       "      <th>7</th>\n",
       "      <td>149.063865</td>\n",
       "      <td>-30.703440</td>\n",
       "    </tr>\n",
       "    <tr>\n",
       "      <th>8</th>\n",
       "      <td>68.876945</td>\n",
       "      <td>-8.322982</td>\n",
       "    </tr>\n",
       "    <tr>\n",
       "      <th>9</th>\n",
       "      <td>111.593436</td>\n",
       "      <td>15.910444</td>\n",
       "    </tr>\n",
       "  </tbody>\n",
       "</table>\n",
       "</div>"
      ],
      "text/plain": [
       "          lon        lat\n",
       "0 -121.120773  32.933039\n",
       "1    0.637183  17.916502\n",
       "2  -56.965019  39.461941\n",
       "3 -161.598551 -78.829743\n",
       "4 -179.852468 -60.329801\n",
       "5   72.045760  64.081110\n",
       "6 -112.197381  12.840255\n",
       "7  149.063865 -30.703440\n",
       "8   68.876945  -8.322982\n",
       "9  111.593436  15.910444"
      ]
     },
     "execution_count": 20,
     "metadata": {},
     "output_type": "execute_result"
    }
   ],
   "source": [
    "labels= [\"lon\", \"lat\"]\n",
    "cities_coordinates = pd.DataFrame(cities, columns=labels)\n",
    "cities_coordinates"
   ]
  },
  {
   "cell_type": "code",
   "execution_count": 21,
   "metadata": {},
   "outputs": [
    {
     "data": {
      "text/plain": [
       "0    32.933039\n",
       "1    17.916502\n",
       "2    39.461941\n",
       "3   -78.829743\n",
       "4   -60.329801\n",
       "5    64.081110\n",
       "6    12.840255\n",
       "7   -30.703440\n",
       "8    -8.322982\n",
       "9    15.910444\n",
       "Name: lat, dtype: float64"
      ]
     },
     "execution_count": 21,
     "metadata": {},
     "output_type": "execute_result"
    }
   ],
   "source": [
    "cities_coordinates[\"lat\"]"
   ]
  },
  {
   "cell_type": "code",
   "execution_count": 22,
   "metadata": {},
   "outputs": [],
   "source": [
    "row_count = 0 \n",
    "\n",
    "for index, row in cities_coordinates.iterrows():\n",
    "    lat= cities_coordinates[\"lat\"]\n",
    "    lon = cities_coordinates[\"lon\"]\n",
    "    url = f\"http://api.openweathermap.org/data/2.5/weather?\"\n",
    "    query_url = f\"{url}appid={api_key}&lat={lat}&lon={lon}\"\n",
    "    query_url\n",
    "    \n",
    "    weather_response = requests.get(query_url)\n",
    "    weather_response"
   ]
  },
  {
   "cell_type": "code",
   "execution_count": 25,
   "metadata": {},
   "outputs": [
    {
     "name": "stdout",
     "output_type": "stream",
     "text": [
      "{'cod': '400', 'message': 'undefined is not a float'}\n"
     ]
    },
    {
     "ename": "KeyError",
     "evalue": "'name'",
     "output_type": "error",
     "traceback": [
      "\u001b[0;31m---------------------------------------------------------------------------\u001b[0m",
      "\u001b[0;31mKeyError\u001b[0m                                  Traceback (most recent call last)",
      "\u001b[0;32m<ipython-input-25-8429e1da5a74>\u001b[0m in \u001b[0;36m<module>\u001b[0;34m()\u001b[0m\n\u001b[1;32m     18\u001b[0m     \u001b[0mresponse\u001b[0m \u001b[0;34m=\u001b[0m \u001b[0mrequests\u001b[0m\u001b[0;34m.\u001b[0m\u001b[0mget\u001b[0m\u001b[0;34m(\u001b[0m\u001b[0mquery_url\u001b[0m \u001b[0;34m+\u001b[0m \u001b[0mcity\u001b[0m\u001b[0;34m)\u001b[0m\u001b[0;34m.\u001b[0m\u001b[0mjson\u001b[0m\u001b[0;34m(\u001b[0m\u001b[0;34m)\u001b[0m\u001b[0;34m\u001b[0m\u001b[0m\n\u001b[1;32m     19\u001b[0m     \u001b[0mprint\u001b[0m\u001b[0;34m(\u001b[0m\u001b[0mresponse\u001b[0m\u001b[0;34m)\u001b[0m\u001b[0;34m\u001b[0m\u001b[0m\n\u001b[0;32m---> 20\u001b[0;31m     \u001b[0mcity_name\u001b[0m\u001b[0;34m.\u001b[0m\u001b[0mappend\u001b[0m\u001b[0;34m(\u001b[0m\u001b[0mresponse\u001b[0m\u001b[0;34m[\u001b[0m\u001b[0;34m\"name\"\u001b[0m\u001b[0;34m]\u001b[0m\u001b[0;34m)\u001b[0m\u001b[0;34m\u001b[0m\u001b[0m\n\u001b[0m\u001b[1;32m     21\u001b[0m     \u001b[0mcity_id\u001b[0m\u001b[0;34m.\u001b[0m\u001b[0mappend\u001b[0m\u001b[0;34m(\u001b[0m\u001b[0mresponse\u001b[0m\u001b[0;34m[\u001b[0m\u001b[0;34m\"sys.id\"\u001b[0m\u001b[0;34m]\u001b[0m\u001b[0;34m)\u001b[0m\u001b[0;34m\u001b[0m\u001b[0m\n\u001b[1;32m     22\u001b[0m     \u001b[0mtemperature\u001b[0m\u001b[0;34m.\u001b[0m\u001b[0mappend\u001b[0m\u001b[0;34m(\u001b[0m\u001b[0mresponse\u001b[0m\u001b[0;34m[\u001b[0m\u001b[0;34m\"main.temp\"\u001b[0m\u001b[0;34m]\u001b[0m\u001b[0;34m)\u001b[0m\u001b[0;34m\u001b[0m\u001b[0m\n",
      "\u001b[0;31mKeyError\u001b[0m: 'name'"
     ]
    }
   ],
   "source": [
    "#List for response results \n",
    "city_name = []\n",
    "city_id = []\n",
    "temperature= []\n",
    "humidity= []\n",
    "cloudiness= []\n",
    "wind_speed= []\n",
    "city_url = []\n",
    "\n",
    "# Loop through each city, Perform API Calls, Append desired results \n",
    "\n",
    "#for loop for cities = (long ,lat)\n",
    "# for city in cities:\n",
    "\n",
    "\n",
    "#for loop for cities_coordinate = dataframe\n",
    "for city in cities_coordinates:\n",
    "    response = requests.get(query_url + city).json()\n",
    "    print(response)\n",
    "    city_name.append(response[\"name\"])\n",
    "    city_id.append(response[\"sys.id\"])\n",
    "    temperature.append(response[\"main.temp\"])\n",
    "    humidity.append(response[\"humidity.unit\"])\n",
    "    cloudiness.append(response[\"clouds.all\"])\n",
    "    wind_speed.append[\"wind.speed\"]\n",
    "    \n",
    "    "
   ]
  },
  {
   "cell_type": "markdown",
   "metadata": {},
   "source": [
    "## Another route\n"
   ]
  },
  {
   "cell_type": "code",
   "execution_count": 24,
   "metadata": {},
   "outputs": [
    {
     "name": "stdout",
     "output_type": "stream",
     "text": [
      "Now retrieving city # 0\n",
      "http://api.openweathermap.org/data/2.5/weather?lat=0%20%20%20%2032.933039%0A1%20%20%20%2017.916502%0A2%20%20%20%2039.461941%0A3%20%20%20-78.829743%0A4%20%20%20-60.329801%0A5%20%20%20%2064.081110%0A6%20%20%20%2012.840255%0A7%20%20%20-30.703440%0A8%20%20%20%20-8.322982%0A9%20%20%20%2015.910444%0AName:%20lat,%20dtype:%20float64&lon=0%20%20%20-121.120773%0A1%20%20%20%20%20%200.637183%0A2%20%20%20%20-56.965019%0A3%20%20%20-161.598551%0A4%20%20%20-179.852468%0A5%20%20%20%20%2072.045760%0A6%20%20%20-112.197381%0A7%20%20%20%20149.063865%0A8%20%20%20%20%2068.876945%0A9%20%20%20%20111.593436%0AName:%20lon,%20dtype:%20float64&%7Blon%7D,%20%7Blat%7D\n",
      "Now retrieving city # 1\n",
      "http://api.openweathermap.org/data/2.5/weather?lat=0%20%20%20%2032.933039%0A1%20%20%20%2017.916502%0A2%20%20%20%2039.461941%0A3%20%20%20-78.829743%0A4%20%20%20-60.329801%0A5%20%20%20%2064.081110%0A6%20%20%20%2012.840255%0A7%20%20%20-30.703440%0A8%20%20%20%20-8.322982%0A9%20%20%20%2015.910444%0AName:%20lat,%20dtype:%20float64&lon=0%20%20%20-121.120773%0A1%20%20%20%20%20%200.637183%0A2%20%20%20%20-56.965019%0A3%20%20%20-161.598551%0A4%20%20%20-179.852468%0A5%20%20%20%20%2072.045760%0A6%20%20%20-112.197381%0A7%20%20%20%20149.063865%0A8%20%20%20%20%2068.876945%0A9%20%20%20%20111.593436%0AName:%20lon,%20dtype:%20float64&%7Blon%7D,%20%7Blat%7D\n",
      "Now retrieving city # 2\n",
      "http://api.openweathermap.org/data/2.5/weather?lat=0%20%20%20%2032.933039%0A1%20%20%20%2017.916502%0A2%20%20%20%2039.461941%0A3%20%20%20-78.829743%0A4%20%20%20-60.329801%0A5%20%20%20%2064.081110%0A6%20%20%20%2012.840255%0A7%20%20%20-30.703440%0A8%20%20%20%20-8.322982%0A9%20%20%20%2015.910444%0AName:%20lat,%20dtype:%20float64&lon=0%20%20%20-121.120773%0A1%20%20%20%20%20%200.637183%0A2%20%20%20%20-56.965019%0A3%20%20%20-161.598551%0A4%20%20%20-179.852468%0A5%20%20%20%20%2072.045760%0A6%20%20%20-112.197381%0A7%20%20%20%20149.063865%0A8%20%20%20%20%2068.876945%0A9%20%20%20%20111.593436%0AName:%20lon,%20dtype:%20float64&%7Blon%7D,%20%7Blat%7D\n",
      "Now retrieving city # 3\n",
      "http://api.openweathermap.org/data/2.5/weather?lat=0%20%20%20%2032.933039%0A1%20%20%20%2017.916502%0A2%20%20%20%2039.461941%0A3%20%20%20-78.829743%0A4%20%20%20-60.329801%0A5%20%20%20%2064.081110%0A6%20%20%20%2012.840255%0A7%20%20%20-30.703440%0A8%20%20%20%20-8.322982%0A9%20%20%20%2015.910444%0AName:%20lat,%20dtype:%20float64&lon=0%20%20%20-121.120773%0A1%20%20%20%20%20%200.637183%0A2%20%20%20%20-56.965019%0A3%20%20%20-161.598551%0A4%20%20%20-179.852468%0A5%20%20%20%20%2072.045760%0A6%20%20%20-112.197381%0A7%20%20%20%20149.063865%0A8%20%20%20%20%2068.876945%0A9%20%20%20%20111.593436%0AName:%20lon,%20dtype:%20float64&%7Blon%7D,%20%7Blat%7D\n",
      "Now retrieving city # 4\n",
      "http://api.openweathermap.org/data/2.5/weather?lat=0%20%20%20%2032.933039%0A1%20%20%20%2017.916502%0A2%20%20%20%2039.461941%0A3%20%20%20-78.829743%0A4%20%20%20-60.329801%0A5%20%20%20%2064.081110%0A6%20%20%20%2012.840255%0A7%20%20%20-30.703440%0A8%20%20%20%20-8.322982%0A9%20%20%20%2015.910444%0AName:%20lat,%20dtype:%20float64&lon=0%20%20%20-121.120773%0A1%20%20%20%20%20%200.637183%0A2%20%20%20%20-56.965019%0A3%20%20%20-161.598551%0A4%20%20%20-179.852468%0A5%20%20%20%20%2072.045760%0A6%20%20%20-112.197381%0A7%20%20%20%20149.063865%0A8%20%20%20%20%2068.876945%0A9%20%20%20%20111.593436%0AName:%20lon,%20dtype:%20float64&%7Blon%7D,%20%7Blat%7D\n",
      "Now retrieving city # 5\n",
      "http://api.openweathermap.org/data/2.5/weather?lat=0%20%20%20%2032.933039%0A1%20%20%20%2017.916502%0A2%20%20%20%2039.461941%0A3%20%20%20-78.829743%0A4%20%20%20-60.329801%0A5%20%20%20%2064.081110%0A6%20%20%20%2012.840255%0A7%20%20%20-30.703440%0A8%20%20%20%20-8.322982%0A9%20%20%20%2015.910444%0AName:%20lat,%20dtype:%20float64&lon=0%20%20%20-121.120773%0A1%20%20%20%20%20%200.637183%0A2%20%20%20%20-56.965019%0A3%20%20%20-161.598551%0A4%20%20%20-179.852468%0A5%20%20%20%20%2072.045760%0A6%20%20%20-112.197381%0A7%20%20%20%20149.063865%0A8%20%20%20%20%2068.876945%0A9%20%20%20%20111.593436%0AName:%20lon,%20dtype:%20float64&%7Blon%7D,%20%7Blat%7D\n",
      "Now retrieving city # 6\n",
      "http://api.openweathermap.org/data/2.5/weather?lat=0%20%20%20%2032.933039%0A1%20%20%20%2017.916502%0A2%20%20%20%2039.461941%0A3%20%20%20-78.829743%0A4%20%20%20-60.329801%0A5%20%20%20%2064.081110%0A6%20%20%20%2012.840255%0A7%20%20%20-30.703440%0A8%20%20%20%20-8.322982%0A9%20%20%20%2015.910444%0AName:%20lat,%20dtype:%20float64&lon=0%20%20%20-121.120773%0A1%20%20%20%20%20%200.637183%0A2%20%20%20%20-56.965019%0A3%20%20%20-161.598551%0A4%20%20%20-179.852468%0A5%20%20%20%20%2072.045760%0A6%20%20%20-112.197381%0A7%20%20%20%20149.063865%0A8%20%20%20%20%2068.876945%0A9%20%20%20%20111.593436%0AName:%20lon,%20dtype:%20float64&%7Blon%7D,%20%7Blat%7D\n",
      "Now retrieving city # 7\n",
      "http://api.openweathermap.org/data/2.5/weather?lat=0%20%20%20%2032.933039%0A1%20%20%20%2017.916502%0A2%20%20%20%2039.461941%0A3%20%20%20-78.829743%0A4%20%20%20-60.329801%0A5%20%20%20%2064.081110%0A6%20%20%20%2012.840255%0A7%20%20%20-30.703440%0A8%20%20%20%20-8.322982%0A9%20%20%20%2015.910444%0AName:%20lat,%20dtype:%20float64&lon=0%20%20%20-121.120773%0A1%20%20%20%20%20%200.637183%0A2%20%20%20%20-56.965019%0A3%20%20%20-161.598551%0A4%20%20%20-179.852468%0A5%20%20%20%20%2072.045760%0A6%20%20%20-112.197381%0A7%20%20%20%20149.063865%0A8%20%20%20%20%2068.876945%0A9%20%20%20%20111.593436%0AName:%20lon,%20dtype:%20float64&%7Blon%7D,%20%7Blat%7D\n",
      "Now retrieving city # 8\n",
      "http://api.openweathermap.org/data/2.5/weather?lat=0%20%20%20%2032.933039%0A1%20%20%20%2017.916502%0A2%20%20%20%2039.461941%0A3%20%20%20-78.829743%0A4%20%20%20-60.329801%0A5%20%20%20%2064.081110%0A6%20%20%20%2012.840255%0A7%20%20%20-30.703440%0A8%20%20%20%20-8.322982%0A9%20%20%20%2015.910444%0AName:%20lat,%20dtype:%20float64&lon=0%20%20%20-121.120773%0A1%20%20%20%20%20%200.637183%0A2%20%20%20%20-56.965019%0A3%20%20%20-161.598551%0A4%20%20%20-179.852468%0A5%20%20%20%20%2072.045760%0A6%20%20%20-112.197381%0A7%20%20%20%20149.063865%0A8%20%20%20%20%2068.876945%0A9%20%20%20%20111.593436%0AName:%20lon,%20dtype:%20float64&%7Blon%7D,%20%7Blat%7D\n",
      "Now retrieving city # 9\n",
      "http://api.openweathermap.org/data/2.5/weather?lat=0%20%20%20%2032.933039%0A1%20%20%20%2017.916502%0A2%20%20%20%2039.461941%0A3%20%20%20-78.829743%0A4%20%20%20-60.329801%0A5%20%20%20%2064.081110%0A6%20%20%20%2012.840255%0A7%20%20%20-30.703440%0A8%20%20%20%20-8.322982%0A9%20%20%20%2015.910444%0AName:%20lat,%20dtype:%20float64&lon=0%20%20%20-121.120773%0A1%20%20%20%20%20%200.637183%0A2%20%20%20%20-56.965019%0A3%20%20%20-161.598551%0A4%20%20%20-179.852468%0A5%20%20%20%20%2072.045760%0A6%20%20%20-112.197381%0A7%20%20%20%20149.063865%0A8%20%20%20%20%2068.876945%0A9%20%20%20%20111.593436%0AName:%20lon,%20dtype:%20float64&%7Blon%7D,%20%7Blat%7D\n"
     ]
    }
   ],
   "source": [
    "# set up params\n",
    "params = {\n",
    "        \"lat\": lat,\n",
    "        \"lon\": lon,\n",
    "        \"units\": \"imperial\",\n",
    "        \"appid\": api_key\n",
    "        }\n",
    "\n",
    "# Counter\n",
    "row_count = 0\n",
    "for index, row in cities_coordinates.iterrows():\n",
    "    #params['Lon'] = row['Lat']\n",
    "    lat= cities_coordinates[\"lat\"]\n",
    "    lon = cities_coordinates[\"lon\"]\n",
    "    params = \"{lon}, {lat}\"\n",
    "    #base_url = \"http://api.openweathermap.org/data/2.5/weather?lat={lat}&lon={lon}\"\n",
    "    base_url = f\"http://api.openweathermap.org/data/2.5/weather?lat={lat}&lon={lon}\"\n",
    "    #except, error with printing URL\n",
    "    print(\"Now retrieving city # \" + str(row_count))\n",
    "    row_count += 1\n",
    "    #print(\"Now retrieving city #%s: %s\" %\n",
    "        #(row_count, cities_coordinates.loc[index]['name']))\n",
    "    #row_count += 1\n",
    "    cor_location = requests.get(base_url, params=params)\n",
    "    print(cor_location.url)\n",
    "    cor_location= cor_location.json()\n",
    "    \n",
    "    \n",
    "    "
   ]
  },
  {
   "cell_type": "code",
   "execution_count": null,
   "metadata": {
    "collapsed": true
   },
   "outputs": [],
   "source": []
  },
  {
   "cell_type": "code",
   "execution_count": null,
   "metadata": {
    "collapsed": true
   },
   "outputs": [],
   "source": []
  }
 ],
 "metadata": {
  "kernelspec": {
   "display_name": "Python 3",
   "language": "python",
   "name": "python3"
  },
  "language_info": {
   "codemirror_mode": {
    "name": "ipython",
    "version": 3
   },
   "file_extension": ".py",
   "mimetype": "text/x-python",
   "name": "python",
   "nbconvert_exporter": "python",
   "pygments_lexer": "ipython3",
   "version": "3.6.3"
  }
 },
 "nbformat": 4,
 "nbformat_minor": 2
}
