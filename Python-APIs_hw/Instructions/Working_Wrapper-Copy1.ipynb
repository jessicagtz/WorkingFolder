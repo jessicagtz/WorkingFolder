{
 "cells": [
  {
   "cell_type": "code",
   "execution_count": 1,
   "metadata": {
    "collapsed": true
   },
   "outputs": [],
   "source": [
    "# Dependencies\n",
    "import json\n",
    "import requests\n",
    "from citipy import citipy\n",
    "from random import uniform\n",
    "import pandas as pd\n",
    "import openweathermapy.core as ow\n",
    "import matplotlib.pyplot as plt\n",
    "\n",
    "\n",
    "\n",
    "#Import api_key \n",
    "from config import api_key"
   ]
  },
  {
   "cell_type": "code",
   "execution_count": 2,
   "metadata": {
    "collapsed": true
   },
   "outputs": [],
   "source": [
    "cities = []\n",
    "def newpoint():\n",
    "    return uniform(-180, 180), uniform(-90, 90)\n",
    "\n",
    "r_coordinates = (newpoint() for x in range(10))\n",
    "for coordinate_pair in r_coordinates:\n",
    "    #print (city)\n",
    "    cities.append(coordinate_pair)"
   ]
  },
  {
   "cell_type": "code",
   "execution_count": 3,
   "metadata": {},
   "outputs": [
    {
     "data": {
      "text/plain": [
       "[(66.91573755922155, -43.83713861554282),\n",
       " (-165.28470711349084, -46.445695097630725),\n",
       " (13.0305698549584, -23.58313269224817),\n",
       " (-115.7469213823505, 21.951991555483062),\n",
       " (-15.359879643969805, -76.45327923359966),\n",
       " (17.94598121606805, -33.290763521093915),\n",
       " (138.35035472942138, 47.117531631943336),\n",
       " (-143.65092547999822, -6.32370013877096),\n",
       " (-123.60154798138558, 31.341844398069412),\n",
       " (105.47838351084181, 41.77272608874111)]"
      ]
     },
     "execution_count": 3,
     "metadata": {},
     "output_type": "execute_result"
    }
   ],
   "source": [
    "cities"
   ]
  },
  {
   "cell_type": "code",
   "execution_count": 4,
   "metadata": {},
   "outputs": [
    {
     "data": {
      "text/html": [
       "<div>\n",
       "<style>\n",
       "    .dataframe thead tr:only-child th {\n",
       "        text-align: right;\n",
       "    }\n",
       "\n",
       "    .dataframe thead th {\n",
       "        text-align: left;\n",
       "    }\n",
       "\n",
       "    .dataframe tbody tr th {\n",
       "        vertical-align: top;\n",
       "    }\n",
       "</style>\n",
       "<table border=\"1\" class=\"dataframe\">\n",
       "  <thead>\n",
       "    <tr style=\"text-align: right;\">\n",
       "      <th></th>\n",
       "      <th>Lon</th>\n",
       "      <th>Lat</th>\n",
       "    </tr>\n",
       "  </thead>\n",
       "  <tbody>\n",
       "    <tr>\n",
       "      <th>0</th>\n",
       "      <td>66.915738</td>\n",
       "      <td>-43.837139</td>\n",
       "    </tr>\n",
       "    <tr>\n",
       "      <th>1</th>\n",
       "      <td>-165.284707</td>\n",
       "      <td>-46.445695</td>\n",
       "    </tr>\n",
       "    <tr>\n",
       "      <th>2</th>\n",
       "      <td>13.030570</td>\n",
       "      <td>-23.583133</td>\n",
       "    </tr>\n",
       "    <tr>\n",
       "      <th>3</th>\n",
       "      <td>-115.746921</td>\n",
       "      <td>21.951992</td>\n",
       "    </tr>\n",
       "    <tr>\n",
       "      <th>4</th>\n",
       "      <td>-15.359880</td>\n",
       "      <td>-76.453279</td>\n",
       "    </tr>\n",
       "    <tr>\n",
       "      <th>5</th>\n",
       "      <td>17.945981</td>\n",
       "      <td>-33.290764</td>\n",
       "    </tr>\n",
       "    <tr>\n",
       "      <th>6</th>\n",
       "      <td>138.350355</td>\n",
       "      <td>47.117532</td>\n",
       "    </tr>\n",
       "    <tr>\n",
       "      <th>7</th>\n",
       "      <td>-143.650925</td>\n",
       "      <td>-6.323700</td>\n",
       "    </tr>\n",
       "    <tr>\n",
       "      <th>8</th>\n",
       "      <td>-123.601548</td>\n",
       "      <td>31.341844</td>\n",
       "    </tr>\n",
       "    <tr>\n",
       "      <th>9</th>\n",
       "      <td>105.478384</td>\n",
       "      <td>41.772726</td>\n",
       "    </tr>\n",
       "  </tbody>\n",
       "</table>\n",
       "</div>"
      ],
      "text/plain": [
       "          Lon        Lat\n",
       "0   66.915738 -43.837139\n",
       "1 -165.284707 -46.445695\n",
       "2   13.030570 -23.583133\n",
       "3 -115.746921  21.951992\n",
       "4  -15.359880 -76.453279\n",
       "5   17.945981 -33.290764\n",
       "6  138.350355  47.117532\n",
       "7 -143.650925  -6.323700\n",
       "8 -123.601548  31.341844\n",
       "9  105.478384  41.772726"
      ]
     },
     "execution_count": 4,
     "metadata": {},
     "output_type": "execute_result"
    }
   ],
   "source": [
    "labels= [\"Lon\", \"Lat\"]\n",
    "cities_coordinates = pd.DataFrame(cities, columns=labels)\n",
    "cities_coordinates"
   ]
  },
  {
   "cell_type": "code",
   "execution_count": 5,
   "metadata": {},
   "outputs": [],
   "source": [
    "#Save coordiantes as csv \n",
    "cities_coordinates.to_csv(\"output_analysis/cities_coordinates.csv\",\n",
    "                     encoding=\"utf-8\", index=False)"
   ]
  },
  {
   "cell_type": "code",
   "execution_count": 6,
   "metadata": {},
   "outputs": [
    {
     "data": {
      "text/plain": [
       "[(66.91573755922155, -43.83713861554282),\n",
       " (-165.28470711349084, -46.445695097630725),\n",
       " (13.0305698549584, -23.58313269224817),\n",
       " (-115.7469213823505, 21.951991555483062),\n",
       " (-15.359879643969805, -76.45327923359966),\n",
       " (17.94598121606805, -33.290763521093915),\n",
       " (138.35035472942138, 47.117531631943336),\n",
       " (-143.65092547999822, -6.32370013877096),\n",
       " (-123.60154798138558, 31.341844398069412),\n",
       " (105.47838351084181, 41.77272608874111)]"
      ]
     },
     "execution_count": 6,
     "metadata": {},
     "output_type": "execute_result"
    }
   ],
   "source": [
    "cities"
   ]
  },
  {
   "cell_type": "code",
   "execution_count": 10,
   "metadata": {
    "collapsed": true
   },
   "outputs": [],
   "source": [
    "settings = {\"appid\": api_key, \"units\": \"imperial\"}\n",
    "weather_data= []"
   ]
  },
  {
   "cell_type": "code",
   "execution_count": 11,
   "metadata": {},
   "outputs": [],
   "source": [
    "#weather_data = [ow.get_current(city, **settings) for city in cities]\n",
    "#weather_data"
   ]
  },
  {
   "cell_type": "code",
   "execution_count": 13,
   "metadata": {
    "collapsed": true
   },
   "outputs": [],
   "source": [
    "summary= [\"name\", \"sys.id\", \"main.temp\", \"humidity.unit\", \"clouds.all\", \"wind.speed\"]\n"
   ]
  },
  {
   "cell_type": "code",
   "execution_count": 14,
   "metadata": {
    "collapsed": true
   },
   "outputs": [],
   "source": [
    "data = [response(*summary) for response in weather_data]"
   ]
  },
  {
   "cell_type": "code",
   "execution_count": 15,
   "metadata": {},
   "outputs": [
    {
     "data": {
      "text/html": [
       "<div>\n",
       "<style>\n",
       "    .dataframe thead tr:only-child th {\n",
       "        text-align: right;\n",
       "    }\n",
       "\n",
       "    .dataframe thead th {\n",
       "        text-align: left;\n",
       "    }\n",
       "\n",
       "    .dataframe tbody tr th {\n",
       "        vertical-align: top;\n",
       "    }\n",
       "</style>\n",
       "<table border=\"1\" class=\"dataframe\">\n",
       "  <thead>\n",
       "    <tr style=\"text-align: right;\">\n",
       "      <th></th>\n",
       "    </tr>\n",
       "  </thead>\n",
       "  <tbody>\n",
       "    <tr>\n",
       "      <th>(66.91573755922155, -43.83713861554282)</th>\n",
       "    </tr>\n",
       "    <tr>\n",
       "      <th>(-165.28470711349084, -46.445695097630725)</th>\n",
       "    </tr>\n",
       "    <tr>\n",
       "      <th>(13.0305698549584, -23.58313269224817)</th>\n",
       "    </tr>\n",
       "    <tr>\n",
       "      <th>(-115.7469213823505, 21.951991555483062)</th>\n",
       "    </tr>\n",
       "    <tr>\n",
       "      <th>(-15.359879643969805, -76.45327923359966)</th>\n",
       "    </tr>\n",
       "    <tr>\n",
       "      <th>(17.94598121606805, -33.290763521093915)</th>\n",
       "    </tr>\n",
       "    <tr>\n",
       "      <th>(138.35035472942138, 47.117531631943336)</th>\n",
       "    </tr>\n",
       "    <tr>\n",
       "      <th>(-143.65092547999822, -6.32370013877096)</th>\n",
       "    </tr>\n",
       "    <tr>\n",
       "      <th>(-123.60154798138558, 31.341844398069412)</th>\n",
       "    </tr>\n",
       "    <tr>\n",
       "      <th>(105.47838351084181, 41.77272608874111)</th>\n",
       "    </tr>\n",
       "  </tbody>\n",
       "</table>\n",
       "</div>"
      ],
      "text/plain": [
       "Empty DataFrame\n",
       "Columns: []\n",
       "Index: [(66.91573755922155, -43.83713861554282), (-165.28470711349084, -46.445695097630725), (13.0305698549584, -23.58313269224817), (-115.7469213823505, 21.951991555483062), (-15.359879643969805, -76.45327923359966), (17.94598121606805, -33.290763521093915), (138.35035472942138, 47.117531631943336), (-143.65092547999822, -6.32370013877096), (-123.60154798138558, 31.341844398069412), (105.47838351084181, 41.77272608874111)]"
      ]
     },
     "execution_count": 15,
     "metadata": {},
     "output_type": "execute_result"
    }
   ],
   "source": [
    "weather_data = pd.DataFrame(data, index=cities)\n",
    "weather_data"
   ]
  },
  {
   "cell_type": "code",
   "execution_count": 17,
   "metadata": {},
   "outputs": [
    {
     "data": {
      "text/html": [
       "<div>\n",
       "<style>\n",
       "    .dataframe thead tr:only-child th {\n",
       "        text-align: right;\n",
       "    }\n",
       "\n",
       "    .dataframe thead th {\n",
       "        text-align: left;\n",
       "    }\n",
       "\n",
       "    .dataframe tbody tr th {\n",
       "        vertical-align: top;\n",
       "    }\n",
       "</style>\n",
       "<table border=\"1\" class=\"dataframe\">\n",
       "  <thead>\n",
       "    <tr style=\"text-align: right;\">\n",
       "      <th></th>\n",
       "      <th>City Name</th>\n",
       "      <th>City ID</th>\n",
       "      <th>Temperature (F)</th>\n",
       "      <th>Humidity (%)</th>\n",
       "      <th>Cloudiness (%)</th>\n",
       "      <th>Wind Speed (mph)</th>\n",
       "    </tr>\n",
       "  </thead>\n",
       "  <tbody>\n",
       "    <tr>\n",
       "      <th>(66.91573755922155, -43.83713861554282)</th>\n",
       "      <td>NaN</td>\n",
       "      <td>NaN</td>\n",
       "      <td>NaN</td>\n",
       "      <td>NaN</td>\n",
       "      <td>NaN</td>\n",
       "      <td>NaN</td>\n",
       "    </tr>\n",
       "    <tr>\n",
       "      <th>(-165.28470711349084, -46.445695097630725)</th>\n",
       "      <td>NaN</td>\n",
       "      <td>NaN</td>\n",
       "      <td>NaN</td>\n",
       "      <td>NaN</td>\n",
       "      <td>NaN</td>\n",
       "      <td>NaN</td>\n",
       "    </tr>\n",
       "    <tr>\n",
       "      <th>(13.0305698549584, -23.58313269224817)</th>\n",
       "      <td>NaN</td>\n",
       "      <td>NaN</td>\n",
       "      <td>NaN</td>\n",
       "      <td>NaN</td>\n",
       "      <td>NaN</td>\n",
       "      <td>NaN</td>\n",
       "    </tr>\n",
       "    <tr>\n",
       "      <th>(-115.7469213823505, 21.951991555483062)</th>\n",
       "      <td>NaN</td>\n",
       "      <td>NaN</td>\n",
       "      <td>NaN</td>\n",
       "      <td>NaN</td>\n",
       "      <td>NaN</td>\n",
       "      <td>NaN</td>\n",
       "    </tr>\n",
       "    <tr>\n",
       "      <th>(-15.359879643969805, -76.45327923359966)</th>\n",
       "      <td>NaN</td>\n",
       "      <td>NaN</td>\n",
       "      <td>NaN</td>\n",
       "      <td>NaN</td>\n",
       "      <td>NaN</td>\n",
       "      <td>NaN</td>\n",
       "    </tr>\n",
       "    <tr>\n",
       "      <th>(17.94598121606805, -33.290763521093915)</th>\n",
       "      <td>NaN</td>\n",
       "      <td>NaN</td>\n",
       "      <td>NaN</td>\n",
       "      <td>NaN</td>\n",
       "      <td>NaN</td>\n",
       "      <td>NaN</td>\n",
       "    </tr>\n",
       "    <tr>\n",
       "      <th>(138.35035472942138, 47.117531631943336)</th>\n",
       "      <td>NaN</td>\n",
       "      <td>NaN</td>\n",
       "      <td>NaN</td>\n",
       "      <td>NaN</td>\n",
       "      <td>NaN</td>\n",
       "      <td>NaN</td>\n",
       "    </tr>\n",
       "    <tr>\n",
       "      <th>(-143.65092547999822, -6.32370013877096)</th>\n",
       "      <td>NaN</td>\n",
       "      <td>NaN</td>\n",
       "      <td>NaN</td>\n",
       "      <td>NaN</td>\n",
       "      <td>NaN</td>\n",
       "      <td>NaN</td>\n",
       "    </tr>\n",
       "    <tr>\n",
       "      <th>(-123.60154798138558, 31.341844398069412)</th>\n",
       "      <td>NaN</td>\n",
       "      <td>NaN</td>\n",
       "      <td>NaN</td>\n",
       "      <td>NaN</td>\n",
       "      <td>NaN</td>\n",
       "      <td>NaN</td>\n",
       "    </tr>\n",
       "    <tr>\n",
       "      <th>(105.47838351084181, 41.77272608874111)</th>\n",
       "      <td>NaN</td>\n",
       "      <td>NaN</td>\n",
       "      <td>NaN</td>\n",
       "      <td>NaN</td>\n",
       "      <td>NaN</td>\n",
       "      <td>NaN</td>\n",
       "    </tr>\n",
       "  </tbody>\n",
       "</table>\n",
       "</div>"
      ],
      "text/plain": [
       "                                           City Name City ID Temperature (F)  \\\n",
       "(66.91573755922155, -43.83713861554282)          NaN     NaN             NaN   \n",
       "(-165.28470711349084, -46.445695097630725)       NaN     NaN             NaN   \n",
       "(13.0305698549584, -23.58313269224817)           NaN     NaN             NaN   \n",
       "(-115.7469213823505, 21.951991555483062)         NaN     NaN             NaN   \n",
       "(-15.359879643969805, -76.45327923359966)        NaN     NaN             NaN   \n",
       "(17.94598121606805, -33.290763521093915)         NaN     NaN             NaN   \n",
       "(138.35035472942138, 47.117531631943336)         NaN     NaN             NaN   \n",
       "(-143.65092547999822, -6.32370013877096)         NaN     NaN             NaN   \n",
       "(-123.60154798138558, 31.341844398069412)        NaN     NaN             NaN   \n",
       "(105.47838351084181, 41.77272608874111)          NaN     NaN             NaN   \n",
       "\n",
       "                                           Humidity (%) Cloudiness (%)  \\\n",
       "(66.91573755922155, -43.83713861554282)             NaN            NaN   \n",
       "(-165.28470711349084, -46.445695097630725)          NaN            NaN   \n",
       "(13.0305698549584, -23.58313269224817)              NaN            NaN   \n",
       "(-115.7469213823505, 21.951991555483062)            NaN            NaN   \n",
       "(-15.359879643969805, -76.45327923359966)           NaN            NaN   \n",
       "(17.94598121606805, -33.290763521093915)            NaN            NaN   \n",
       "(138.35035472942138, 47.117531631943336)            NaN            NaN   \n",
       "(-143.65092547999822, -6.32370013877096)            NaN            NaN   \n",
       "(-123.60154798138558, 31.341844398069412)           NaN            NaN   \n",
       "(105.47838351084181, 41.77272608874111)             NaN            NaN   \n",
       "\n",
       "                                           Wind Speed (mph)  \n",
       "(66.91573755922155, -43.83713861554282)                 NaN  \n",
       "(-165.28470711349084, -46.445695097630725)              NaN  \n",
       "(13.0305698549584, -23.58313269224817)                  NaN  \n",
       "(-115.7469213823505, 21.951991555483062)                NaN  \n",
       "(-15.359879643969805, -76.45327923359966)               NaN  \n",
       "(17.94598121606805, -33.290763521093915)                NaN  \n",
       "(138.35035472942138, 47.117531631943336)                NaN  \n",
       "(-143.65092547999822, -6.32370013877096)                NaN  \n",
       "(-123.60154798138558, 31.341844398069412)               NaN  \n",
       "(105.47838351084181, 41.77272608874111)                 NaN  "
      ]
     },
     "execution_count": 17,
     "metadata": {},
     "output_type": "execute_result"
    }
   ],
   "source": [
    "column_names = [\"City Name\", \"City ID\", \n",
    "                \"Temperature (F)\", \"Humidity (%)\", \"Cloudiness (%)\", \"Wind Speed (mph)\"]\n",
    "weather_data = pd.DataFrame(data, index=cities, columns=column_names)\n",
    "weather_data"
   ]
  },
  {
   "cell_type": "code",
   "execution_count": null,
   "metadata": {
    "collapsed": true
   },
   "outputs": [],
   "source": [
    "#MapWrap 10 Unsolved Example "
   ]
  }
 ],
 "metadata": {
  "kernelspec": {
   "display_name": "Python 3",
   "language": "python",
   "name": "python3"
  },
  "language_info": {
   "codemirror_mode": {
    "name": "ipython",
    "version": 3
   },
   "file_extension": ".py",
   "mimetype": "text/x-python",
   "name": "python",
   "nbconvert_exporter": "python",
   "pygments_lexer": "ipython3",
   "version": "3.6.3"
  }
 },
 "nbformat": 4,
 "nbformat_minor": 2
}
