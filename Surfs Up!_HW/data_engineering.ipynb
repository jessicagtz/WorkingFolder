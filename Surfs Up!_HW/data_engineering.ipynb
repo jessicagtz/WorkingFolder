{
 "cells": [
  {
   "cell_type": "code",
   "execution_count": 1,
   "metadata": {
    "collapsed": true
   },
   "outputs": [],
   "source": [
    "# Background\n",
    "## Climate analysis on Honolulu, Hawaii. Datasets range from "
   ]
  },
  {
   "cell_type": "code",
   "execution_count": 2,
   "metadata": {
    "collapsed": true
   },
   "outputs": [],
   "source": [
    "#Dependencies\n",
    "import pandas as pd\n",
    "import json\n",
    "import numpy as np\n",
    "from datetime import datetime\n",
    "import dateutil\n",
    "\n",
    "#Data Information\n",
    "#prcp= precipitation\n",
    "#tobs= time of observation (TOBs) changes"
   ]
  },
  {
   "cell_type": "code",
   "execution_count": 3,
   "metadata": {},
   "outputs": [
    {
     "data": {
      "text/plain": [
       "station    19550\n",
       "date       19550\n",
       "prcp       18103\n",
       "tobs       19550\n",
       "dtype: int64"
      ]
     },
     "execution_count": 3,
     "metadata": {},
     "output_type": "execute_result"
    }
   ],
   "source": [
    "#Read \"Measurement\" CSV file\n",
    "measurement_file= \"hawaii_measurements.csv\"\n",
    "measurement_df= pd.read_csv(measurement_file)\n",
    "#measurements_df.head()\n",
    "\n",
    "# Check data contents \n",
    "#measurements_df.describe()\n",
    "measurement_df.count()"
   ]
  },
  {
   "cell_type": "code",
   "execution_count": 4,
   "metadata": {
    "collapsed": true
   },
   "outputs": [],
   "source": [
    "#Drop all NaNs. Generate cleaned CSV file\n",
    "clean_measurement_df = measurement_df.dropna()\n",
    "#clean_measurement_df.head()\n",
    "clean_measurement_df.count()\n",
    "#clean_measurement_df.describe()\n",
    "clean_measurement_df.to_csv(\"clean_hawaii_measurements.csv\", index=False, header=True)\n"
   ]
  },
  {
   "cell_type": "code",
   "execution_count": 15,
   "metadata": {},
   "outputs": [
    {
     "data": {
      "text/plain": [
       "station      9\n",
       "name         9\n",
       "latitude     9\n",
       "longitude    9\n",
       "elevation    9\n",
       "dtype: int64"
      ]
     },
     "execution_count": 15,
     "metadata": {},
     "output_type": "execute_result"
    }
   ],
   "source": [
    "#Read Station CSV file \n",
    "stations_file= \"hawaii_stations.csv\"\n",
    "stations_df= pd.read_csv(stations_file)\n",
    "#stations_df.head()\n",
    "\n",
    "\n",
    "# Check data contents \n",
    "#stations_df.describe()\n",
    "stations_df.count()"
   ]
  },
  {
   "cell_type": "code",
   "execution_count": 17,
   "metadata": {},
   "outputs": [],
   "source": [
    "#Drop all NaNs. Generate cleaned CSV file\n",
    "clean_stations_df = stations_df.dropna()\n",
    "#clean_stations_df.head()\n",
    "\n",
    "#Check Data Contents \n",
    "#clean_stations_df.describe()\n",
    "clean_stations_df.count()\n",
    "clean_stations_df.to_csv(\"clean_hawaii_stations.csv\", index=False, header=True)"
   ]
  }
 ],
 "metadata": {
  "kernelspec": {
   "display_name": "Python 3",
   "language": "python",
   "name": "python3"
  },
  "language_info": {
   "codemirror_mode": {
    "name": "ipython",
    "version": 3
   },
   "file_extension": ".py",
   "mimetype": "text/x-python",
   "name": "python",
   "nbconvert_exporter": "python",
   "pygments_lexer": "ipython3",
   "version": "3.6.3"
  }
 },
 "nbformat": 4,
 "nbformat_minor": 2
}
